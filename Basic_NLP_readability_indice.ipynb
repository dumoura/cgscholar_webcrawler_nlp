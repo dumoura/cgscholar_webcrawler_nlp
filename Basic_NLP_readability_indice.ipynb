{
 "cells": [
  {
   "cell_type": "markdown",
   "metadata": {
    "heading_collapsed": true
   },
   "source": [
    "# Setings"
   ]
  },
  {
   "cell_type": "code",
   "execution_count": 1,
   "metadata": {
    "hidden": true
   },
   "outputs": [],
   "source": [
    "\n",
    "from bs4 import BeautifulSoup\n",
    "import pandas as pd\n",
    "from selenium import webdriver\n",
    "import time\n",
    "import requests\n",
    "from requests_html import HTML\n",
    "from urllib.parse import urlparse\n",
    "import os\n",
    "import pandas as pd\n",
    "from selenium import webdriver\n",
    "import time\n",
    "import requests\n",
    "from urllib.parse import urlparse\n",
    "import os\n",
    "import matplotlib.pyplot as plt\n",
    "import seaborn as sns\n",
    "\n",
    "## Importar as bibliotecas regex e RegexpTokenizer from nltk.tokenize\n",
    "\n",
    "import re\n",
    "import nltk\n",
    "\n",
    "from nltk.tokenize import RegexpTokenizer"
   ]
  },
  {
   "cell_type": "code",
   "execution_count": 2,
   "metadata": {
    "hidden": true
   },
   "outputs": [
    {
     "name": "stdout",
     "output_type": "stream",
     "text": [
      "/Users/dumoura/Dev/PDev/CGScholar/Robot_cit/Notebook\n"
     ]
    }
   ],
   "source": [
    "# Setting work directories and files: getting current directory\n",
    "cwd = os.getcwd()\n",
    "print(cwd)"
   ]
  },
  {
   "cell_type": "code",
   "execution_count": 3,
   "metadata": {
    "hidden": true
   },
   "outputs": [],
   "source": [
    "# Setting work directories and files: crating work directories\n",
    "# Base_dir\n",
    "\n",
    "BASE_DIR = os.path.dirname(cwd) # base directory\n",
    "\n",
    "TABLES_DIR = os.path.join(BASE_DIR, \"tables\")\n",
    "META_DIR = os.path.join(BASE_DIR, \"metada\") \n",
    "\n",
    "# Make_dirs\n",
    "os.makedirs(TABLES_DIR, exist_ok=True)\n",
    "os.makedirs(META_DIR, exist_ok=True)"
   ]
  },
  {
   "cell_type": "code",
   "execution_count": 4,
   "metadata": {
    "hidden": true
   },
   "outputs": [
    {
     "name": "stdout",
     "output_type": "stream",
     "text": [
      "Select a csv document:\n",
      "['Works_Experience_Graded.csv', 'intro2scores.csv', '.DS_Store', 'WorksAuthorIntroRef.csv', 'Works_40_50_AuthorIntroRef.csv', 'EPOL481.csv', 'intro2scores.xls', '.ipynb_checkpoints']\n",
      "\n",
      "Works_Experience_Graded.csv\n"
     ]
    }
   ],
   "source": [
    "table_name = input(f\"Select a csv document:\\n{os.listdir(TABLES_DIR)}\\n\\n\")"
   ]
  },
  {
   "cell_type": "code",
   "execution_count": 5,
   "metadata": {
    "hidden": true
   },
   "outputs": [
    {
     "data": {
      "text/plain": [
       "Index(['author', 'Experience', 'Experience_Rodrigo', 'Experience_Shang',\n",
       "       'Experience_Jen', 'Peer Reviewers'],\n",
       "      dtype='object')"
      ]
     },
     "execution_count": 5,
     "metadata": {},
     "output_type": "execute_result"
    }
   ],
   "source": [
    "df = pd.read_csv(f\"{TABLES_DIR}/{table_name}\") #ADD doctitle.csv - doc with the works url\n",
    "df.columns"
   ]
  },
  {
   "cell_type": "markdown",
   "metadata": {
    "heading_collapsed": true
   },
   "source": [
    "# A. Exploring some features #"
   ]
  },
  {
   "cell_type": "code",
   "execution_count": 125,
   "metadata": {
    "hidden": true
   },
   "outputs": [],
   "source": [
    "## look the first row \n",
    "# df.head(1)"
   ]
  },
  {
   "cell_type": "code",
   "execution_count": 6,
   "metadata": {
    "hidden": true
   },
   "outputs": [],
   "source": [
    "## n of rows and columns\n",
    "# df.shape"
   ]
  },
  {
   "cell_type": "code",
   "execution_count": 7,
   "metadata": {
    "hidden": true
   },
   "outputs": [],
   "source": [
    "# # general table descriptions\n",
    "# df.describe"
   ]
  },
  {
   "cell_type": "code",
   "execution_count": 8,
   "metadata": {
    "hidden": true
   },
   "outputs": [
    {
     "data": {
      "text/plain": [
       "Experience_Rodrigo    1.268070\n",
       "Experience_Shang      1.187352\n",
       "Experience_Jen        1.208301\n",
       "Peer Reviewers        0.701525\n",
       "dtype: float64"
      ]
     },
     "execution_count": 8,
     "metadata": {},
     "output_type": "execute_result"
    }
   ],
   "source": [
    "# the standard deviation for each evaluation\n",
    "df.std()"
   ]
  },
  {
   "cell_type": "code",
   "execution_count": 10,
   "metadata": {
    "hidden": true
   },
   "outputs": [
    {
     "name": "stdout",
     "output_type": "stream",
     "text": [
      "4.0    15\n",
      "3.0    12\n",
      "1.0     8\n",
      "2.0     6\n",
      "0.5     3\n",
      "2.5     2\n",
      "0.0     1\n",
      "Name: Experience_Rodrigo, dtype: int64 \n",
      "\n"
     ]
    }
   ],
   "source": [
    "# n of grades [from 0 to 4] given by TA \n",
    "\n",
    "n_grade_Rodrigo = df[\"Experience_Rodrigo\"].value_counts()\n",
    "n_grade_Shang = df[\"Experience_Shang\"].value_counts()\n",
    "n_grade_Jen = df[\"Experience_Jen\"].value_counts()\n",
    "\n",
    "print(n_grade_Rodrigo, \"\\n\")\n",
    "# print(n_grade_Shang, \"\\n\");\n",
    "# print(n_grade_Jen, \"\\n\");"
   ]
  },
  {
   "cell_type": "code",
   "execution_count": 12,
   "metadata": {
    "hidden": true
   },
   "outputs": [
    {
     "name": "stdout",
     "output_type": "stream",
     "text": [
      "1     6.382979\n",
      "2    14.893617\n",
      "3    68.085106\n",
      "4    10.638298\n",
      "Name: Peer Reviewers, dtype: float64\n"
     ]
    }
   ],
   "source": [
    "# porcentage of grades given by TAs (n%)\n",
    "\n",
    "val = (df[\"Peer Reviewers\"].value_counts(max, sort=False))*100\n",
    "print(f\"{val}\")"
   ]
  },
  {
   "cell_type": "markdown",
   "metadata": {
    "heading_collapsed": true
   },
   "source": [
    "# B. Exploring -  \"expiriences\" row"
   ]
  },
  {
   "cell_type": "code",
   "execution_count": 13,
   "metadata": {
    "hidden": true
   },
   "outputs": [
    {
     "name": "stdout",
     "output_type": "stream",
     "text": [
      "0    The social context of education aims to identi...\n",
      "1    Formal and Informal learning are an integral p...\n",
      "2    The education sector has historically been a l...\n",
      "3    As a second/third grade teacher, I have recent...\n",
      "Name: Experience, dtype: object\n"
     ]
    }
   ],
   "source": [
    "# row 1 to 4\n",
    "print(df[\"Experience\"][:4])"
   ]
  },
  {
   "cell_type": "code",
   "execution_count": 14,
   "metadata": {
    "hidden": true
   },
   "outputs": [
    {
     "name": "stdout",
     "output_type": "stream",
     "text": [
      "['the social context of education aims to identify modern issues in education through philosophical, political, and sociological lenses (smrekar & bentley, 2017). studies in this field revolve around the relationship between education and society, including topics like equity, social policy, opportunity, and access to education (smrekar & bentley, 2017). as stated by kalantzis and cope (2000), the anxieties of parents has become a recent topic of discussion as a contemporary social context of education. within this topic, the trend of parents electing to home school their children has emerged (kalantzis & cope, 2017). it is estimated that 1.7 million children, or 3.3% of school aged children are enrolled in homeschooling educational programs (nces, 2016). although homeschooling prevalence has increased in recent years, it’s educational and social outcomes remain unclear. percent of homeschooled students since 1999. retrieved from https://nces.ed.gov/blogs/nces/post/a-fresh-look-at-homeschooling-in-the-u-s the national center for education statistics (nces) investigated parent motivations for homeschooling and found that the most common concern for parents was concern for the educational environment, followed by a dissatisfaction with academic instruction. other motivations include a desire to provide and nontraditional approach, and the desire to cater to children with special needs (nces, 2016). this work aims to review the available literature homeschooling as a contemporary social context of education. sampling and methods of the parent and family involvement in homeschool education survey. retrieved from https://nces.ed.gov/blogs/nces/post/a-fresh-look-at-homeschooling-in-the-u-s parents’ motivations for choosing to homeschool their children is one of the most researched topics in home education. homeschooling as a contemporary social context of education can be organized into categories for a more thorough understanding of the topic including demographics, academic achievement, socialization, and relationships with traditional school methodologies, although it should be noted that there are many more social contexts to this topic.']\n"
     ]
    }
   ],
   "source": [
    "#preprocessing - lower_cases\n",
    "lower_cases = []\n",
    "\n",
    "for i in df[\"Experience\"]:\n",
    "    lower_cases.append([i.lower()])\n",
    "\n",
    "print(lower_cases[0])"
   ]
  },
  {
   "cell_type": "code",
   "execution_count": 15,
   "metadata": {
    "hidden": true
   },
   "outputs": [
    {
     "name": "stdout",
     "output_type": "stream",
     "text": [
      "['the', 'social', 'context', 'of', 'education', 'aims', 'to', 'identify', 'modern', 'issues', 'in', 'education', 'through', 'philosophical', 'political', 'and', 'sociological', 'lenses', 'smrekar', 'bentley', '2017', 'studies', 'in', 'this', 'field', 'revolve', 'around', 'the', 'relationship', 'between', 'education', 'and', 'society', 'including', 'topics', 'like', 'equity', 'social', 'policy', 'opportunity', 'and', 'access', 'to', 'education', 'smrekar', 'bentley', '2017', 'as', 'stated', 'by', 'kalantzis', 'and', 'cope', '2000', 'the', 'anxieties', 'of', 'parents', 'has', 'become', 'a', 'recent', 'topic', 'of', 'discussion', 'as', 'a', 'contemporary', 'social', 'context', 'of', 'education', 'within', 'this', 'topic', 'the', 'trend', 'of', 'parents', 'electing', 'to', 'home', 'school', 'their', 'children', 'has', 'emerged', 'kalantzis', 'cope', '2017', 'it', 'is', 'estimated', 'that', '1', '7', 'million', 'children', 'or', '3', '3', 'of', 'school', 'aged', 'children', 'are', 'enrolled', 'in', 'homeschooling', 'educational', 'programs', 'nces', '2016', 'although', 'homeschooling', 'prevalence', 'has', 'increased', 'in', 'recent', 'years', 'it', 's', 'educational', 'and', 'social', 'outcomes', 'remain', 'unclear', 'percent', 'of', 'homeschooled', 'students', 'since', '1999', 'retrieved', 'from', 'https', 'nces', 'ed', 'gov', 'blogs', 'nces', 'post', 'a', 'fresh', 'look', 'at', 'homeschooling', 'in', 'the', 'u', 's', 'the', 'national', 'center', 'for', 'education', 'statistics', 'nces', 'investigated', 'parent', 'motivations', 'for', 'homeschooling', 'and', 'found', 'that', 'the', 'most', 'common', 'concern', 'for', 'parents', 'was', 'concern', 'for', 'the', 'educational', 'environment', 'followed', 'by', 'a', 'dissatisfaction', 'with', 'academic', 'instruction', 'other', 'motivations', 'include', 'a', 'desire', 'to', 'provide', 'and', 'nontraditional', 'approach', 'and', 'the', 'desire', 'to', 'cater', 'to', 'children', 'with', 'special', 'needs', 'nces', '2016', 'this', 'work', 'aims', 'to', 'review', 'the', 'available', 'literature', 'homeschooling', 'as', 'a', 'contemporary', 'social', 'context', 'of', 'education', 'sampling', 'and', 'methods', 'of', 'the', 'parent', 'and', 'family', 'involvement', 'in', 'homeschool', 'education', 'survey', 'retrieved', 'from', 'https', 'nces', 'ed', 'gov', 'blogs', 'nces', 'post', 'a', 'fresh', 'look', 'at', 'homeschooling', 'in', 'the', 'u', 's', 'parents', 'motivations', 'for', 'choosing', 'to', 'homeschool', 'their', 'children', 'is', 'one', 'of', 'the', 'most', 'researched', 'topics', 'in', 'home', 'education', 'homeschooling', 'as', 'a', 'contemporary', 'social', 'context', 'of', 'education', 'can', 'be', 'organized', 'into', 'categories', 'for', 'a', 'more', 'thorough', 'understanding', 'of', 'the', 'topic', 'including', 'demographics', 'academic', 'achievement', 'socialization', 'and', 'relationships', 'with', 'traditional', 'school', 'methodologies', 'although', 'it', 'should', 'be', 'noted', 'that', 'there', 'are', 'many', 'more', 'social', 'contexts', 'to', 'this', 'topic']\n"
     ]
    }
   ],
   "source": [
    "# tokenizing\n",
    "\n",
    "ttk = []\n",
    "for i in lower_cases:\n",
    "    cc1 = str(i[0])\n",
    "    tokkens = re.findall('\\w+', cc1)\n",
    "    ttk.append(tokkens)\n",
    "    \n",
    "print(ttk[0])"
   ]
  },
  {
   "cell_type": "code",
   "execution_count": 19,
   "metadata": {
    "hidden": true
   },
   "outputs": [
    {
     "name": "stdout",
     "output_type": "stream",
     "text": [
      "['i', 'me', 'my', 'myself', 'we', 'our', 'ours', 'ourselves', 'you', \"you're\", \"you've\", \"you'll\", \"you'd\", 'your', 'yours', 'yourself', 'yourselves', 'he', 'him', 'his', 'himself', 'she', \"she's\", 'her', 'hers', 'herself', 'it', \"it's\", 'its', 'itself', 'they', 'them', 'their', 'theirs', 'themselves', 'what', 'which', 'who', 'whom', 'this', 'that', \"that'll\", 'these', 'those', 'am', 'is', 'are', 'was', 'were', 'be', 'been', 'being', 'have', 'has', 'had', 'having', 'do', 'does', 'did', 'doing', 'a', 'an', 'the', 'and', 'but', 'if', 'or', 'because', 'as', 'until', 'while', 'of', 'at', 'by', 'for', 'with', 'about', 'against', 'between', 'into', 'through', 'during', 'before', 'after', 'above', 'below', 'to', 'from', 'up', 'down', 'in', 'out', 'on', 'off', 'over', 'under', 'again', 'further', 'then', 'once', 'here', 'there', 'when', 'where', 'why', 'how', 'all', 'any', 'both', 'each', 'few', 'more', 'most', 'other', 'some', 'such', 'no', 'nor', 'not', 'only', 'own', 'same', 'so', 'than', 'too', 'very', 's', 't', 'can', 'will', 'just', 'don', \"don't\", 'should', \"should've\", 'now', 'd', 'll', 'm', 'o', 're', 've', 'y', 'ain', 'aren', \"aren't\", 'couldn', \"couldn't\", 'didn', \"didn't\", 'doesn', \"doesn't\", 'hadn', \"hadn't\", 'hasn', \"hasn't\", 'haven', \"haven't\", 'isn', \"isn't\", 'ma', 'mightn', \"mightn't\", 'mustn', \"mustn't\", 'needn', \"needn't\", 'shan', \"shan't\", 'shouldn', \"shouldn't\", 'wasn', \"wasn't\", 'weren', \"weren't\", 'won', \"won't\", 'wouldn', \"wouldn't\"]\n"
     ]
    }
   ],
   "source": [
    "#stopwords\n",
    "sw = nltk.corpus.stopwords.words('english')\n",
    "print (sw)"
   ]
  },
  {
   "cell_type": "code",
   "execution_count": 20,
   "metadata": {
    "hidden": true
   },
   "outputs": [
    {
     "name": "stdout",
     "output_type": "stream",
     "text": [
      "['the', 'social', 'context', 'of', 'education', 'aims', 'to', 'identify', 'modern', 'issues', 'in', 'education', 'through', 'philosophical', 'political', 'and', 'sociological', 'lenses', 'smrekar', 'bentley', '2017', 'studies', 'in', 'this', 'field', 'revolve', 'around', 'the', 'relationship', 'between', 'education', 'and', 'society', 'including', 'topics', 'like', 'equity', 'social', 'policy', 'opportunity', 'and', 'access', 'to', 'education', 'smrekar', 'bentley', '2017', 'as', 'stated', 'by', 'kalantzis', 'and', 'cope', '2000', 'the', 'anxieties', 'of', 'parents', 'has', 'become', 'a', 'recent', 'topic', 'of', 'discussion', 'as', 'a', 'contemporary', 'social', 'context', 'of', 'education', 'within', 'this', 'topic', 'the', 'trend', 'of', 'parents', 'electing', 'to', 'home', 'school', 'their', 'children', 'has', 'emerged', 'kalantzis', 'cope', '2017', 'it', 'is', 'estimated', 'that', '1', '7', 'million', 'children', 'or', '3', '3', 'of', 'school', 'aged', 'children', 'are', 'enrolled', 'in', 'homeschooling', 'educational', 'programs', 'nces', '2016', 'although', 'homeschooling', 'prevalence', 'has', 'increased', 'in', 'recent', 'years', 'it', 's', 'educational', 'and', 'social', 'outcomes', 'remain', 'unclear', 'percent', 'of', 'homeschooled', 'students', 'since', '1999', 'retrieved', 'from', 'https', 'nces', 'ed', 'gov', 'blogs', 'nces', 'post', 'a', 'fresh', 'look', 'at', 'homeschooling', 'in', 'the', 'u', 's', 'the', 'national', 'center', 'for', 'education', 'statistics', 'nces', 'investigated', 'parent', 'motivations', 'for', 'homeschooling', 'and', 'found', 'that', 'the', 'most', 'common', 'concern', 'for', 'parents', 'was', 'concern', 'for', 'the', 'educational', 'environment', 'followed', 'by', 'a', 'dissatisfaction', 'with', 'academic', 'instruction', 'other', 'motivations', 'include', 'a', 'desire', 'to', 'provide', 'and', 'nontraditional', 'approach', 'and', 'the', 'desire', 'to', 'cater', 'to', 'children', 'with', 'special', 'needs', 'nces', '2016', 'this', 'work', 'aims', 'to', 'review', 'the', 'available', 'literature', 'homeschooling', 'as', 'a', 'contemporary', 'social', 'context', 'of', 'education', 'sampling', 'and', 'methods', 'of', 'the', 'parent', 'and', 'family', 'involvement', 'in', 'homeschool', 'education', 'survey', 'retrieved', 'from', 'https', 'nces', 'ed', 'gov', 'blogs', 'nces', 'post', 'a', 'fresh', 'look', 'at', 'homeschooling', 'in', 'the', 'u', 's', 'parents', 'motivations', 'for', 'choosing', 'to', 'homeschool', 'their', 'children', 'is', 'one', 'of', 'the', 'most', 'researched', 'topics', 'in', 'home', 'education', 'homeschooling', 'as', 'a', 'contemporary', 'social', 'context', 'of', 'education', 'can', 'be', 'organized', 'into', 'categories', 'for', 'a', 'more', 'thorough', 'understanding', 'of', 'the', 'topic', 'including', 'demographics', 'academic', 'achievement', 'socialization', 'and', 'relationships', 'with', 'traditional', 'school', 'methodologies', 'although', 'it', 'should', 'be', 'noted', 'that', 'there', 'are', 'many', 'more', 'social', 'contexts', 'to', 'this', 'topic']\n"
     ]
    }
   ],
   "source": [
    "# Initialize a new list with no stopwords\n",
    "words_ns = []\n",
    "\n",
    "for word in ttk:\n",
    "    if word not in sw:\n",
    "        words_ns.append(word)\n",
    "\n",
    "print(words_ns[0])"
   ]
  },
  {
   "cell_type": "code",
   "execution_count": 21,
   "metadata": {
    "hidden": true
   },
   "outputs": [],
   "source": [
    "# to viz\n",
    "\n",
    "%matplotlib inline\n",
    "sns.set()\n",
    "\n",
    "# Crear um plot de frequencia para analizar nossa lista words_ns - (words_ns[1])\n",
    "\n",
    "freqdist1 = nltk.FreqDist(words_ns[0])"
   ]
  },
  {
   "cell_type": "code",
   "execution_count": 22,
   "metadata": {
    "hidden": true
   },
   "outputs": [
    {
     "data": {
      "image/png": "[encoded data removed]",
      "text/plain": [
       "<Figure size 432x288 with 1 Axes>"
      ]
     },
     "metadata": {},
     "output_type": "display_data"
    },
    {
     "data": {
      "text/plain": [
       "<AxesSubplot:xlabel='Samples', ylabel='Counts'>"
      ]
     },
     "execution_count": 22,
     "metadata": {},
     "output_type": "execute_result"
    }
   ],
   "source": [
    "\n",
    "# plotar as 25 palavras mais usadas\n",
    "\n",
    "freqdist1.plot(10)"
   ]
  },
  {
   "cell_type": "code",
   "execution_count": 23,
   "metadata": {
    "hidden": true
   },
   "outputs": [
    {
     "data": {
      "text/plain": [
       "10"
      ]
     },
     "execution_count": 23,
     "metadata": {},
     "output_type": "execute_result"
    }
   ],
   "source": [
    "freqdist1[\"education\"]"
   ]
  },
  {
   "cell_type": "code",
   "execution_count": 24,
   "metadata": {
    "hidden": true
   },
   "outputs": [],
   "source": [
    "from collections import Counter"
   ]
  },
  {
   "cell_type": "code",
   "execution_count": 25,
   "metadata": {
    "hidden": true
   },
   "outputs": [],
   "source": [
    "# n_words = Counter(words_ns[1])\n",
    "# n_words"
   ]
  },
  {
   "cell_type": "code",
   "execution_count": 26,
   "metadata": {
    "hidden": true
   },
   "outputs": [
    {
     "name": "stdout",
     "output_type": "stream",
     "text": [
      " the percentage of times that 'education' appears: 3%\n"
     ]
    }
   ],
   "source": [
    "f1 = int(freqdist1.freq(\"education\")*100)\n",
    "print(f\" the percentage of times that 'education' appears: {f1}%\")"
   ]
  },
  {
   "cell_type": "code",
   "execution_count": 27,
   "metadata": {
    "hidden": true
   },
   "outputs": [
    {
     "data": {
      "text/plain": [
       "308"
      ]
     },
     "execution_count": 27,
     "metadata": {},
     "output_type": "execute_result"
    }
   ],
   "source": [
    "len(words_ns[1])"
   ]
  },
  {
   "cell_type": "code",
   "execution_count": 28,
   "metadata": {
    "hidden": true
   },
   "outputs": [],
   "source": [
    "## Importar as bibliotecas regex e RegexpTokenizer from nltk.tokenize\n",
    "from nltk.tokenize import RegexpTokenizer\n",
    "from nltk.text import Text\n",
    "from nltk import FreqDist"
   ]
  },
  {
   "cell_type": "code",
   "execution_count": 29,
   "metadata": {
    "hidden": true
   },
   "outputs": [
    {
     "data": {
      "image/png": "[encoded data removed]",
      "text/plain": [
       "<Figure size 432x288 with 1 Axes>"
      ]
     },
     "metadata": {},
     "output_type": "display_data"
    }
   ],
   "source": [
    "p = Text(words_ns)\n",
    "\n",
    "concordance = Text(words_ns[1])\n",
    "concordance.dispersion_plot([\"education\"])"
   ]
  },
  {
   "cell_type": "code",
   "execution_count": 30,
   "metadata": {
    "hidden": true
   },
   "outputs": [
    {
     "name": "stdout",
     "output_type": "stream",
     "text": [
      "Displaying 4 of 4 matches:\n",
      "l learning are an integral part of education professor cope 2016 mentioned how \n",
      "ues even after the start of formal education and can happen everywhere anytime \n",
      "someone who has worked in language education for over a decade i have observed \n",
      "ing in addition to the traditional education that happens in the institution th\n"
     ]
    }
   ],
   "source": [
    "# The context in which the word appears\n",
    "\n",
    "concordance.concordance(\"education\")"
   ]
  },
  {
   "cell_type": "code",
   "execution_count": 31,
   "metadata": {
    "hidden": true
   },
   "outputs": [
    {
     "name": "stdout",
     "output_type": "stream",
     "text": [
      "of; formal; language; traditional\n"
     ]
    }
   ],
   "source": [
    "# words related - beford\n",
    "\n",
    "concordance.findall(\"(<.*>) <education>\")"
   ]
  },
  {
   "cell_type": "code",
   "execution_count": 32,
   "metadata": {
    "hidden": true
   },
   "outputs": [
    {
     "name": "stdout",
     "output_type": "stream",
     "text": [
      "professor; and; for; that\n"
     ]
    }
   ],
   "source": [
    "# words related - after\n",
    "\n",
    "concordance.findall(\"<education> (<.*>)\") #{,4}"
   ]
  },
  {
   "cell_type": "markdown",
   "metadata": {
    "heading_collapsed": true
   },
   "source": [
    "# Exploring - NLP"
   ]
  },
  {
   "cell_type": "markdown",
   "metadata": {
    "hidden": true
   },
   "source": [
    "## Text pre-processing\n",
    "\n",
    "- Tokenization and Lemmatization\n",
    "-- lowercase\n",
    "-- base-form"
   ]
  },
  {
   "cell_type": "code",
   "execution_count": 33,
   "metadata": {
    "hidden": true
   },
   "outputs": [],
   "source": [
    "#Tokenization and Lemmatization EXEMPLE\n",
    "# python3 -m spacy download en_core_web_sm\n",
    "\n",
    "import spacy\n",
    "from spacy.lang.en.examples import sentences "
   ]
  },
  {
   "cell_type": "code",
   "execution_count": 34,
   "metadata": {
    "hidden": true
   },
   "outputs": [],
   "source": [
    "#load en_core_we model\n",
    "\n",
    "nlp = spacy.load(\"en_core_web_sm\")"
   ]
  },
  {
   "cell_type": "code",
   "execution_count": 37,
   "metadata": {
    "hidden": true
   },
   "outputs": [
    {
     "name": "stdout",
     "output_type": "stream",
     "text": [
      "0     the social context of education aim to identif...\n",
      "1     formal and informal learning be an integral pa...\n",
      "2     the education sector have historically be a li...\n",
      "3     as a second third grade teacher I have recentl...\n",
      "4     image eSchool News teacher share formative ass...\n",
      "5     as both a full time student and an educator in...\n",
      "6     I consider myself an active video gamer one of...\n",
      "7     what a year that be what many of we say about ...\n",
      "8     figure unicef when accept a position as an ear...\n",
      "9     researcher and educator focus much of their ef...\n",
      "10    since the inception of modern education in the...\n",
      "11    Grafted Integrated Health Network become traum...\n",
      "12    learning be no long an activity that only occu...\n",
      "13    traditionally school be a place for learn acad...\n",
      "14    Social Emotional Learning or SEL have be a buz...\n",
      "15    my background be in Engineering Education and ...\n",
      "16    the way I learn when I attend school be the sa...\n",
      "17    the past three school year the elementary scho...\n",
      "18    we live in a world that be cause more rapid ch...\n",
      "19    I frequently ask myself what be the primary pu...\n",
      "20    still do know what I be waitin for and my time...\n",
      "21    from my own personal experience over the past ...\n",
      "22    Century LearnersFor the past two decade educat...\n",
      "23    accord to UNESCO of the world student populati...\n",
      "24    in this review of literature I will explore th...\n",
      "25    introduction last year I transition into a new...\n",
      "26    I begin this assignment want to well understan...\n",
      "27    fig Milton Wright High School Family Consumer ...\n",
      "28    Transformative Learning transformative learnin...\n",
      "29    Baby Boomers worldwide retire leave much vacan...\n",
      "30    figure ISTE Logo International Society for Tec...\n",
      "31    the pandemic have not only shine a light on ho...\n",
      "32    this literature review be directly tie to my w...\n",
      "33    video be an expected and integral component in...\n",
      "34    hello I be sorry that you be receive this late...\n",
      "35    in a world with seemingly endless distraction ...\n",
      "36    the use of technology in the classroom have re...\n",
      "37    human learning begin in one life the moment th...\n",
      "38    the first time I learn about Progressive Educa...\n",
      "39    fig Montessori preschool classroom Saptientia ...\n",
      "40    during the school year my district begin a one...\n",
      "41    for the past eight year I have teach middle an...\n",
      "42    my interest in transformative or reflexive lea...\n",
      "43    iPads Kickstarter our course hence the name be...\n",
      "44    this be my year in education my serve as grade...\n",
      "45    as we make our way through teaching in the COV...\n",
      "46    after complete my entire education in mainland...\n",
      "Name: Experience, dtype: object\n"
     ]
    }
   ],
   "source": [
    "# Function to preprocess text\n",
    "\n",
    "def preprocess(text):\n",
    "  \t# Create Doc object\n",
    "    doc = nlp(text, disable=['ner', 'parser'])\n",
    "# Generate lemmas\n",
    "    lemmas = [token.lemma_ for token in doc]\n",
    "# Remove stopwords and non-alphabetic characters\n",
    "    a_lemmas = [lemma for lemma in lemmas \n",
    "            if lemma.isalpha()]\n",
    "    \n",
    "    return ' '.join(a_lemmas)\n",
    "  \n",
    "# Apply preprocess to ted['transcript']\n",
    "\n",
    "df = df['Experience'].apply(preprocess)\n",
    "print(df)\n"
   ]
  },
  {
   "cell_type": "markdown",
   "metadata": {
    "hidden": true
   },
   "source": [
    "### Part-of-speech tagging"
   ]
  },
  {
   "cell_type": "code",
   "execution_count": 38,
   "metadata": {
    "hidden": true
   },
   "outputs": [],
   "source": [
    "# POS Exemple \n",
    "\n",
    "#load en_core_we model\n",
    "nlp = spacy.load(\"en_core_web_sm\")\n",
    "\n",
    "#exemple\n",
    "\n",
    "string_5 = df[5]\n",
    "doc_5 = nlp(string_5)\n",
    "pos_5 = [(token.text, token.pos_) for token in doc_5]\n",
    "\n",
    "# print(pos_5)"
   ]
  },
  {
   "cell_type": "code",
   "execution_count": 39,
   "metadata": {
    "hidden": true
   },
   "outputs": [
    {
     "name": "stdout",
     "output_type": "stream",
     "text": [
      "nouns = 72\n",
      "proper nouns = 7\n",
      "adjective = 21\n",
      "verb = 32\n",
      "adverb = 8\n"
     ]
    }
   ],
   "source": [
    "# Returns number of proper nouns\n",
    "nlp = spacy.load('en_core_web_sm')\n",
    "\n",
    "# Returns number of proper nouns\n",
    "def proper_nouns(text, model=nlp):\n",
    "  # Create doc object\n",
    "    doc = model(text)\n",
    "    # Generate list of POS tags\n",
    "    pos = [token.pos_ for token in doc]\n",
    "    \n",
    "    # Return number of proper nouns\n",
    "    return pos.count('PRON')\n",
    "\n",
    "# Returns number of nouns\n",
    "def nouns(text, model=nlp):\n",
    "    # Create doc object\n",
    "    doc = model(text)\n",
    "    # Generate list of POS tags\n",
    "    pos = [token.pos_ for token in doc]\n",
    "    \n",
    "    # Return number of other nouns\n",
    "    return pos.count(\"NOUN\")\n",
    "\n",
    "# Returns number of verb\n",
    "def verb(text, model=nlp):\n",
    "    # Create doc object\n",
    "    doc = model(text)\n",
    "    # Generate list of POS tags\n",
    "    pos = [token.pos_ for token in doc]\n",
    "    # Return number of other nouns\n",
    "    return pos.count(\"VERB\")\n",
    "\n",
    "# Returns number of verb\n",
    "def adjective(text, model=nlp):\n",
    "    # Create doc object\n",
    "    doc = model(text)\n",
    "    # Generate list of POS tags\n",
    "    pos = [token.pos_ for token in doc]\n",
    "    # Return number of other nouns\n",
    "    return pos.count(\"ADJ\")\n",
    "\n",
    "# Returns number of verb\n",
    "def adverb(text, model=nlp):\n",
    "    # Create doc object\n",
    "    doc = model(text)\n",
    "    # Generate list of POS tags\n",
    "    pos = [token.pos_ for token in doc]\n",
    "    # Return number of other nouns\n",
    "    return pos.count('ADV')\n",
    "\n",
    "# Returns number of verb\n",
    "def ponctuation(text, model=nlp):\n",
    "    # Create doc object\n",
    "    doc = model(text)\n",
    "    # Generate list of POS tags\n",
    "    pos = [token.pos_ for token in doc]\n",
    "    # Return number of other nouns\n",
    "    return pos.count('PUNCT')\n",
    "\n",
    "print(\"nouns =\",nouns(string_5, nlp))\n",
    "print(\"proper nouns =\",proper_nouns(string_5, nlp))\n",
    "print(\"adjective =\",adjective(string_5, nlp))\n",
    "print(\"verb =\",verb(string_5, nlp))\n",
    "print(\"adverb =\",adverb(string_5, nlp))\n",
    "# print(\"ponctuation =\",ponctuation(string_5, nlp))"
   ]
  },
  {
   "cell_type": "markdown",
   "metadata": {
    "hidden": true
   },
   "source": [
    "### Named entity recognition (NER)"
   ]
  },
  {
   "attachments": {
    "Screen%20Shot%202021-10-08%20at%204.19.35%20PM.png": {
     "image/png": "[encoded data removed]"
    }
   },
   "cell_type": "markdown",
   "metadata": {
    "hidden": true
   },
   "source": [
    "Fonte: https://spacy.io/usage/linguistic-features\n",
    "\n",
    "![Screen%20Shot%202021-10-08%20at%204.19.35%20PM.png](attachment:Screen%20Shot%202021-10-08%20at%204.19.35%20PM.png)"
   ]
  },
  {
   "cell_type": "code",
   "execution_count": 40,
   "metadata": {
    "hidden": true
   },
   "outputs": [
    {
     "name": "stdout",
     "output_type": "stream",
     "text": [
      "[('two', 'CARDINAL'), ('New Learning', 'NORP'), ('eight', 'CARDINAL'), ('Kalantzis', 'ORG'), ('cultivate century', 'DATE'), ('today', 'DATE'), ('today', 'DATE'), ('CBE', 'ORG'), ('CBE', 'ORG')]\n"
     ]
    }
   ],
   "source": [
    "#Exemple - row 6\n",
    "\n",
    "string_5 = df[5]\n",
    "\n",
    "nlp = spacy.load(\"en_core_web_sm\")\n",
    "doc_5 = nlp(string_5)\n",
    "\n",
    "ne = [(ent.text, ent.label_) for ent in doc_5.ents]\n",
    "print(ne)"
   ]
  },
  {
   "cell_type": "code",
   "execution_count": 41,
   "metadata": {
    "hidden": true
   },
   "outputs": [],
   "source": [
    "def find_persons(text):\n",
    "  # Create Doc object\n",
    "  doc = nlp(text)\n",
    "  # Identify the persons\n",
    "  persons = [ent.text for ent in doc.ents if ent.label_ == 'PERSON']\n",
    "  # Return persons\n",
    "  return persons\n",
    "\n",
    "def find_organizations(text):\n",
    "  # Create Doc object\n",
    "  doc = nlp(text)\n",
    "  # Identify the persons\n",
    "  organizations = [ent.text for ent in doc.ents if ent.label_ == 'ORG']\n",
    "  # Return persons\n",
    "  return organizations\n",
    "\n",
    "def find_workofarts(text):\n",
    "  # Create Doc object\n",
    "  doc = nlp(text)\n",
    "  # Identify the persons\n",
    "  organizations = [ent.text for ent in doc.ents if ent.label_ == 'WORK_OF_ART']\n",
    "  # Return persons\n",
    "  return organizations\n",
    "\n",
    "def find_dates(text):\n",
    "  # Create Doc object\n",
    "  doc = nlp(text)\n",
    "  # Identify the persons\n",
    "  organizations = [ent.text for ent in doc.ents if ent.label_ == 'DATE']\n",
    "  # Return persons\n",
    "  return organizations\n",
    "\n",
    "def find_norps(text):\n",
    "  # Create Doc object\n",
    "  doc = nlp(text)\n",
    "  # Identify the persons\n",
    "  organizations = [ent.text for ent in doc.ents if ent.label_ == 'NORP']\n",
    "  # Return persons\n",
    "  return organizations\n",
    "\n",
    "def find_laws(text):\n",
    "  # Create Doc object\n",
    "  doc = nlp(text)\n",
    "  # Identify the persons\n",
    "  organizations = [ent.text for ent in doc.ents if ent.label_ == 'LAW']\n",
    "  # Return persons\n",
    "  return organizations\n",
    "\n",
    "def find_languages(text):\n",
    "  # Create Doc object\n",
    "  doc = nlp(text)\n",
    "  # Identify the persons\n",
    "  organizations = [ent.text for ent in doc.ents if ent.label_ == 'LANGUAGE']\n",
    "  # Return persons\n",
    "  return organizations\n",
    "\n",
    "def find_gpes(text):\n",
    "  # Create Doc object\n",
    "  doc = nlp(text)\n",
    "  # Identify the persons\n",
    "  organizations = [ent.text for ent in doc.ents if ent.label_ == 'GPE']\n",
    "  # Return persons\n",
    "  return organizations"
   ]
  },
  {
   "cell_type": "code",
   "execution_count": 284,
   "metadata": {
    "hidden": true
   },
   "outputs": [
    {
     "name": "stdout",
     "output_type": "stream",
     "text": [
      "authors cit:  ['Newzoo', 'Fulya Eyupoglu', 'Nietfield'] \n",
      "\n",
      "org cit:  ['Entertainment Software Association', 'Entertainment Software Association', 'GBL', 'GBL'] \n",
      "\n",
      "works cit:  [] \n",
      "\n"
     ]
    }
   ],
   "source": [
    "strings = str(df[6])\n",
    "\n",
    "print(\"authors cit: \", find_persons(strings), \"\\n\")\n",
    "print(\"org cit: \", find_organizations(strings), \"\\n\")\n",
    "print(\"works cit: \", find_workofarts(strings), \"\\n\")\n",
    "# print(\"norps cit: \", find_norps(strings), \"\\n\")\n",
    "# print(\"gpes cit: \", find_gpes(strings),\"\\n\")\n",
    "# print(\"languages cit: \", find_languages(strings), \"\\n\")\n",
    "# print(\"laws cit: \", find_laws(strings), \"\\n\")"
   ]
  },
  {
   "cell_type": "markdown",
   "metadata": {
    "hidden": true
   },
   "source": [
    "### Number of words - Exemplos"
   ]
  },
  {
   "cell_type": "code",
   "execution_count": 42,
   "metadata": {
    "hidden": true
   },
   "outputs": [],
   "source": [
    "#Function that return number of words in string\n",
    "\n",
    "def word_count(string):\n",
    "    words = string.split()\n",
    "    return len(words)\n",
    "\n",
    "# #Create num_words feature in df\n",
    "\n",
    "# df[\"num_words \"] = df.apply(word_count)\n",
    "\n",
    "def avg_word_length(x):\n",
    "    words = x.split()\n",
    "    word_length = [len(word) for word in words]\n",
    "    avg_word_length = sum(word_length)/len(words)\n",
    "    return(avg_word_length)\n",
    "\n",
    "# #Create avg_word_length feature in df\n",
    "\n",
    "# df[\"avg_word_length\"] = df.apply(doc_density)\n"
   ]
  },
  {
   "cell_type": "code",
   "execution_count": 43,
   "metadata": {
    "hidden": true
   },
   "outputs": [
    {
     "name": "stdout",
     "output_type": "stream",
     "text": [
      "0     the social context of education aim to identif...\n",
      "1     formal and informal learning be an integral pa...\n",
      "2     the education sector have historically be a li...\n",
      "3     as a second third grade teacher I have recentl...\n",
      "4     image eSchool News teacher share formative ass...\n",
      "5     as both a full time student and an educator in...\n",
      "6     I consider myself an active video gamer one of...\n",
      "7     what a year that be what many of we say about ...\n",
      "8     figure unicef when accept a position as an ear...\n",
      "9     researcher and educator focus much of their ef...\n",
      "10    since the inception of modern education in the...\n",
      "11    Grafted Integrated Health Network become traum...\n",
      "12    learning be no long an activity that only occu...\n",
      "13    traditionally school be a place for learn acad...\n",
      "14    Social Emotional Learning or SEL have be a buz...\n",
      "15    my background be in Engineering Education and ...\n",
      "16    the way I learn when I attend school be the sa...\n",
      "17    the past three school year the elementary scho...\n",
      "18    we live in a world that be cause more rapid ch...\n",
      "19    I frequently ask myself what be the primary pu...\n",
      "20    still do know what I be waitin for and my time...\n",
      "21    from my own personal experience over the past ...\n",
      "22    Century LearnersFor the past two decade educat...\n",
      "23    accord to UNESCO of the world student populati...\n",
      "24    in this review of literature I will explore th...\n",
      "25    introduction last year I transition into a new...\n",
      "26    I begin this assignment want to well understan...\n",
      "27    fig Milton Wright High School Family Consumer ...\n",
      "28    Transformative Learning transformative learnin...\n",
      "29    Baby Boomers worldwide retire leave much vacan...\n",
      "30    figure ISTE Logo International Society for Tec...\n",
      "31    the pandemic have not only shine a light on ho...\n",
      "32    this literature review be directly tie to my w...\n",
      "33    video be an expected and integral component in...\n",
      "34    hello I be sorry that you be receive this late...\n",
      "35    in a world with seemingly endless distraction ...\n",
      "36    the use of technology in the classroom have re...\n",
      "37    human learning begin in one life the moment th...\n",
      "38    the first time I learn about Progressive Educa...\n",
      "39    fig Montessori preschool classroom Saptientia ...\n",
      "40    during the school year my district begin a one...\n",
      "41    for the past eight year I have teach middle an...\n",
      "42    my interest in transformative or reflexive lea...\n",
      "43    iPads Kickstarter our course hence the name be...\n",
      "44    this be my year in education my serve as grade...\n",
      "45    as we make our way through teaching in the COV...\n",
      "46    after complete my entire education in mainland...\n",
      "Name: Experience, dtype: object\n"
     ]
    }
   ],
   "source": [
    "num_char1 = len(df)\n",
    "print(df[0:])"
   ]
  },
  {
   "cell_type": "code",
   "execution_count": 46,
   "metadata": {
    "hidden": true
   },
   "outputs": [],
   "source": [
    "lista_char_1 = []\n",
    "\n",
    "for i in df:\n",
    "    listx = i.split()\n",
    "    lista_char_1.append(listx)"
   ]
  },
  {
   "cell_type": "code",
   "execution_count": 47,
   "metadata": {
    "hidden": true
   },
   "outputs": [],
   "source": [
    "# print(lista_char_1)"
   ]
  },
  {
   "cell_type": "code",
   "execution_count": 48,
   "metadata": {
    "hidden": true
   },
   "outputs": [
    {
     "name": "stdout",
     "output_type": "stream",
     "text": [
      "[277, 306, 255, 321, 116, 224, 198, 149, 358, 289, 248, 97, 167, 332, 278, 325, 153, 232, 552, 277, 303, 228, 316, 338, 111, 411, 207, 599, 269, 95, 399, 112, 232, 315, 52, 1505, 151, 371, 313, 386, 320, 87, 313, 103, 307, 377, 390]\n"
     ]
    }
   ],
   "source": [
    "n_chrt = []\n",
    "\n",
    "for i in lista_char_1:\n",
    "    n_chrt.append(len(i))\n",
    "\n",
    "print(n_chrt)"
   ]
  },
  {
   "cell_type": "code",
   "execution_count": 49,
   "metadata": {
    "hidden": true
   },
   "outputs": [],
   "source": [
    "#Readability tests\n",
    "\n",
    "\n",
    "df['crit_n_txt'] = n_chrt\n"
   ]
  },
  {
   "cell_type": "code",
   "execution_count": 51,
   "metadata": {
    "hidden": true
   },
   "outputs": [],
   "source": [
    "# df"
   ]
  },
  {
   "cell_type": "markdown",
   "metadata": {
    "hidden": true
   },
   "source": [
    "### Number of words - Caso"
   ]
  },
  {
   "cell_type": "code",
   "execution_count": 54,
   "metadata": {
    "hidden": true
   },
   "outputs": [
    {
     "name": "stdout",
     "output_type": "stream",
     "text": [
      "Select a csv document:\n",
      "['Works_Experience_Graded.csv', 'intro2scores.csv', '.DS_Store', 'WorksAuthorIntroRef.csv', 'Works_40_50_AuthorIntroRef.csv', 'EPOL481.csv', 'intro2scores.xls', '.ipynb_checkpoints']\n",
      "\n",
      "Works_Experience_Graded.csv\n"
     ]
    }
   ],
   "source": [
    "table_name = input(f\"Select a csv document:\\n{os.listdir(TABLES_DIR)}\\n\\n\")"
   ]
  },
  {
   "cell_type": "code",
   "execution_count": 55,
   "metadata": {
    "hidden": true
   },
   "outputs": [
    {
     "data": {
      "text/plain": [
       "Index(['author', 'Experience', 'Experience_Rodrigo', 'Experience_Shang',\n",
       "       'Experience_Jen', 'Peer Reviewers'],\n",
       "      dtype='object')"
      ]
     },
     "execution_count": 55,
     "metadata": {},
     "output_type": "execute_result"
    }
   ],
   "source": [
    "df = pd.read_csv(f\"{TABLES_DIR}/{table_name}\") #ADD doctitle.csv - doc with the works url\n",
    "df.columns"
   ]
  },
  {
   "cell_type": "code",
   "execution_count": 56,
   "metadata": {
    "hidden": true
   },
   "outputs": [
    {
     "name": "stdout",
     "output_type": "stream",
     "text": [
      "[291, 306, 255, 316, 117, 233, 210, 149, 358, 290, 254, 93, 167, 331, 287, 328, 152, 238, 569, 277, 310, 228, 345, 345, 110, 421, 223, 596, 273, 98, 402, 113, 230, 314, 48, 1550, 149, 375, 318, 395, 316, 87, 312, 104, 315, 379, 401]\n"
     ]
    }
   ],
   "source": [
    "# df['Experience_2_str'] = df['Experience'].apply(str)\n",
    "\n",
    "intro_length = []\n",
    "\n",
    "for i in df['Experience']:\n",
    "    listx = i.split()\n",
    "    intro_length.append(listx)\n",
    "\n",
    "# intro_length\n",
    "\n",
    "n_chrt = []\n",
    "\n",
    "for i in intro_length:\n",
    "    n_chrt.append(len(i))\n",
    "\n",
    "# #the length of witch text\n",
    "print(n_chrt)"
   ]
  },
  {
   "cell_type": "code",
   "execution_count": 57,
   "metadata": {
    "hidden": true
   },
   "outputs": [],
   "source": [
    "df['length_intro'] = n_chrt"
   ]
  },
  {
   "cell_type": "code",
   "execution_count": 58,
   "metadata": {
    "hidden": true
   },
   "outputs": [
    {
     "data": {
      "text/html": [
       "<div>\n",
       "<style scoped>\n",
       "    .dataframe tbody tr th:only-of-type {\n",
       "        vertical-align: middle;\n",
       "    }\n",
       "\n",
       "    .dataframe tbody tr th {\n",
       "        vertical-align: top;\n",
       "    }\n",
       "\n",
       "    .dataframe thead th {\n",
       "        text-align: right;\n",
       "    }\n",
       "</style>\n",
       "<table border=\"1\" class=\"dataframe\">\n",
       "  <thead>\n",
       "    <tr style=\"text-align: right;\">\n",
       "      <th></th>\n",
       "      <th>author</th>\n",
       "      <th>Experience</th>\n",
       "      <th>Experience_Rodrigo</th>\n",
       "      <th>Experience_Shang</th>\n",
       "      <th>Experience_Jen</th>\n",
       "      <th>Peer Reviewers</th>\n",
       "      <th>length_intro</th>\n",
       "    </tr>\n",
       "  </thead>\n",
       "  <tbody>\n",
       "    <tr>\n",
       "      <th>0</th>\n",
       "      <td>Aaron Gonzales Aaron</td>\n",
       "      <td>The social context of education aims to identi...</td>\n",
       "      <td>1.0</td>\n",
       "      <td>1.0</td>\n",
       "      <td>2.0</td>\n",
       "      <td>3</td>\n",
       "      <td>291</td>\n",
       "    </tr>\n",
       "  </tbody>\n",
       "</table>\n",
       "</div>"
      ],
      "text/plain": [
       "                 author                                         Experience  \\\n",
       "0  Aaron Gonzales Aaron  The social context of education aims to identi...   \n",
       "\n",
       "   Experience_Rodrigo  Experience_Shang  Experience_Jen  Peer Reviewers  \\\n",
       "0                 1.0               1.0             2.0               3   \n",
       "\n",
       "   length_intro  \n",
       "0           291  "
      ]
     },
     "execution_count": 58,
     "metadata": {},
     "output_type": "execute_result"
    }
   ],
   "source": [
    "df.head(1)"
   ]
  },
  {
   "cell_type": "code",
   "execution_count": 59,
   "metadata": {
    "hidden": true
   },
   "outputs": [
    {
     "data": {
      "image/png": "[encoded data removed]",
      "text/plain": [
       "<Figure size 432x288 with 1 Axes>"
      ]
     },
     "metadata": {},
     "output_type": "display_data"
    }
   ],
   "source": [
    "# display distribution\n",
    "\n",
    "df['length_intro'].hist()\n",
    "plt.title('words count distribution')\n",
    "plt.show();"
   ]
  },
  {
   "cell_type": "code",
   "execution_count": null,
   "metadata": {
    "hidden": true
   },
   "outputs": [],
   "source": []
  },
  {
   "cell_type": "code",
   "execution_count": 60,
   "metadata": {
    "hidden": true
   },
   "outputs": [
    {
     "name": "stdout",
     "output_type": "stream",
     "text": [
      "mean =  297.40425531914894\n",
      "median =  290.0\n",
      "max =  1550\n",
      "min =  48\n"
     ]
    }
   ],
   "source": [
    "print(\"mean = \", df['length_intro'].mean())\n",
    "print(\"median = \", df['length_intro'].median())\n",
    "print(\"max = \", df['length_intro'].max())\n",
    "print(\"min = \", df['length_intro'].min())"
   ]
  },
  {
   "cell_type": "code",
   "execution_count": 61,
   "metadata": {
    "hidden": true
   },
   "outputs": [
    {
     "name": "stdout",
     "output_type": "stream",
     "text": [
      "Natalie Andreas\n",
      "3\n",
      "1550 \n",
      "\n",
      "In a world with seemingly endless distractions, from digital devices to streaming entertainment, to virtual learning quickly evolving into “the new normal,” evaluating how one thinks and learns proves to be an essential exercise. Heritage scholarship proved that student learning can be enhanced by “becoming aware” of their own thinking while completing exercises such as reading, writing, and solving problems (Paris & Winograd 1990). Ample evidence exists to postulate that “metacognitive activity” positively impacts generalized student learning (Perkins & Salomon 1989). The modern classroom currently exists in multiple “worlds:” the physical space, where students sit at desks or tables, and the virtual space, where students and teachers connect and exchange ideas through screens and content management systems. Although many educators and learners voice discomfort with virtual environments, some scholars claim that digital learning is the future. In fact, online education is already evolving into a completely different kind of enhanced space and “quasi-successor state to the mobile internet:” the metaverse (Ball 2021). Understanding how the metaverse can potentially impact metacognitive function will be critical for educators. In the near future, metacognitive strategies will be even more important to understand and utilize, especially as learners begin to traverse the metaverse. Part 1: What is Metacognition? Metacognition, or “thinking about one’s own thinking” was first introduced by John Flavell in the 1970s (Flavell 1971). In Media Element 1 and 2, metacognition is defined and examined through the lens of a “cycle:” First, the subject must “assess the task.” Then, they should evaluate both the strengths and weaknesses of their current approach. Next, they should plan their approach and apply appropriate strategies. Finally, the subject should engage in reflection. Media Element 2 elaborates that metacognition involves overall awareness and monitoring of the thinking and learning process. Overall, the graphic states that student who are metacognitive can own their tasks and apply their acquired knowledge to a variety of situations. Media Element 1: \"What is Metacognition?\" Video  According to McElwee (2009), and as visualized in the below media element, the impact of metacognition includes promoting “deep learning” and facilitating active learners. Media Element 3: Metacognition and active learning Metacognitive research generally postulates that: “knowing about knowing” develops across the lifecycle, as both children and adults often fail to monitor their thought processes, and some metacognitive strategies are difficult to learn and easy to abandon (Garner and Alexander 1989). Scholars differ in their approach to define metacognition as either a natural process or recommended strategy (Georghiades 2008). However, examining metacognition as a process involving intentional mental strategies to enhance learning may be of the most use in the modern classroom. Part 2: Metacognitive Strategies Tanner (2012) discusses strategies for teaching students to monitor their own learning. She recommends a three step approach: planning, monitoring, and evaluating. Reflective journaling is a key practice and metacognitive strategy. As outlined in Media Element 4, general metacognitive strategies include three key stages: planning, monitoring, and evaluating. In the planning phrase, learners investigate different strategies, such as study groups, practice quizzes or attending office hours as an introductory step to a metacognitive approach. Then, the learner should engage in “monitoring” behaviors which focus on potential areas for improvement in the knowledge acquisition process. And, finally, the learner should evaluate their approach in over to continually develop. Media Element 4: Metacognitive Strategies  The Education Endowment Foundation (2018) recommends a more detailed, seven step approach, which includes a focus on self-regulated learning, as described in Media Element 5. First, teachers should acquire the “professional understanding” and skills to develop their students’ metacognitive abilities (EEF 2018). Metacognitive strategies should be explicitly taught, and students should be encouraged to plan, monitor and evaluate their learning. The EEF also recommends that teachers model their own thinking to serve as a guide for students. Each metacognitive activity should contain a certain level of challenge, to further develop students’ self-regulation (EEF 2018). To enhance the teacher’s instruction and metacognitive modelling, classroom dialogue can be used to develop metacognitive skills and contain “guided practice” to encourage students to be independent learners. And, finally, the Education Endowment Foundation emphasizes that schools should support teachers in their attempts to promote metacognitive strategies. Leadership should offer clear training opportunities, and metacognition should never be positioned as an “extra” effort inside the classroom. Media Element 5: Metacognition and Self-Regulated Learning Part 3: Metacognition in the classroom Recent scholarship shows that metacognitive strategies can impact student learning within multiple subject areas and topics, including creative writing, recreational video game playing, science and mathematics. According to Zhao & Ye (2020), metacognitive “calibration” predicts learning outcomes in self-regulated learning. Specifically, college students who completed a brief self-assessment after turning in an assignment earned higher overall course grades than students who did not (435-436). Harischandra, Nandunie & Jayakody (2020) discovered that the more metacognitive skills people have, the more they will find it easy to excel at playing video games they never played before. Factors such as age and video game playing ability didn’t directly correlate with each player’s success. Media Element 6 (below) showcases how the higher metacognition held by a player, they higher their game “points” or score: Media Element 6: Game Points vs. Level of Metacognition  The creative writing subject area can also be impacted by implementing metacognitive strategies. Chakma, Li & Kabuhung (2021) found that even during a stressful global pandemic, students who developed their metacognition regarding their writing were more prolific over the course of their lockdown experience. Specifically, metacognitive strategies “created the conditions that allowed these researchers not only to share their work and solicit critical feedback, but to be aware of their own learning styles” (31). Engineering and mathematics learning communities can be positively impacted by a focus on metacognition, too. Software engineering, in particular, requires students to “develop technical knowledge and advanced cognitive and behavioral skills,” according to Pedrosa, et al. Employing “metacognitive challenges” within a problem set led to more positive student engagement and superior outcomes (Pedrosa, et al, 2020). According to Fung & Poon (2020), “dynamic activites,” such as reviewing lectures lectures assisted by dynamic geometry software (DGS) while examining rational fuctions, led to better metacognition. Student who had stronger metacognition also had stronger learning outcomes in the mathematics subject area (Fung & Poon 2020). Media Element 7 (below) includes an example of how GeoGebra, an industry-leading dynamic geometry software (DGS), can be utilized for classroom instruction or assignment activities: Media Element 7: How to Create a GeoGebra Class from an Illustrative Math Lesson Part 4: What is the “metaverse?” The concept of the “metaverse” adds an intriguing layer to exploring how metacognition impacts the modern classroom. The “metaverse,” a term formerly relagated as science fiction, refers to a virtual and interactive world where activity is primarily synchronous, live, and driven by an “incredibly wide range of contributors” (Ball 2020). Cinephiles may identify the storylines of “The Matrix,” “Ready Player One,” and “Tron” as existing within metaverses. Video game or digital media enthusiasts may recognize “Second Life” or “Fortnite” as virtual experiences within an introductory metaverse (Ball 2020). Some technology industry veterans compare the concept of the “metaverse” to the film “The Nightmare Before Christmas,” specifically: “...you can walk into any experience or activity, and potentially address almost any of your needs, from a single starting point or world that’s also populated by everyone else you know” (Ball 2020). Media Element 8 (below) further defines the concept of the “metaverse” and explains how it coexists with other, more familiar, digital realms such as the internet and augmented reality: Media Element 8: The metaverse The idea of a “metaverse” is critical to modern educators because these seemingly futuristic learning communities are essentially an evolving world where tactics such as metacognition will help students both survive and thrive. Part 5: Metacognition and the Metaverse: Educational Literature Gaps and Possibilities Much legacy and current scholarship exists regarding metacogniton in the classroom. Developing a learner’s metacognitive strategies is a key factor to their academic success, no matter their subject area. As the learning landscape continues to evolve, educators must also dedicate scholarly resources to exploring how employing metacognitive strategies can help students traverse the complicated future world of the “metaverse.” Although the technology industry has long hailed the “metaverse” as the inevitable future, no major scholarship exists to examine how metacognition will be impacted, enhanced, or even required in order to suceed in this cross-sectional world. For example, Facebook, the global social networking platform, has aggressively announced its plan to become a “metaverse” company: Media Element 9: Facebook CEO Mark Zuckerberg lays out 'metaverse' plans As stated in Media Element 9, above, transitioning a digital platform and brand like Facebook into an independently functional “metaverse” is an idea still in the concept phrase. It’s an evolution that may transpire over the next ten years. However, to be competitive and current, educational scholarship must also invest in this future reality and dedicate intellectual resources to studying its impact.  Conclusion Metacognition, over the past five decades, has dominated educational literature. Scholars have examined its history, strategy recommendations, and possibilities related to metacognitive functions in countless learning environments and settings. But what happens when the modern classroom shifts into a completely new context? Now is the time to explore the scholarship possibilities between the future metaverse, and its necessary functional human companion, metacognition.\n"
     ]
    }
   ],
   "source": [
    "#Max\n",
    "print(df[\"author\"][35])\n",
    "print(df[\"Peer Reviewers\"][35])\n",
    "print(df[\"length_intro\"][35], \"\\n\")\n",
    "print(df[\"Experience\"][35])"
   ]
  },
  {
   "cell_type": "code",
   "execution_count": 62,
   "metadata": {
    "hidden": true
   },
   "outputs": [
    {
     "name": "stdout",
     "output_type": "stream",
     "text": [
      "Monique Tanon\n",
      "3\n",
      "48 \n",
      "\n",
      "Hello! I'm sorry that you're receiveing this late review request. I had some minor health problems that I'm recovering from. I know you're very busy with school and other commitments right now, but I just wanted to say thank you for giving me feedback at such late notice. \n"
     ]
    }
   ],
   "source": [
    "#Min\n",
    "print(df[\"author\"][34])\n",
    "print(df[\"Peer Reviewers\"][34])\n",
    "print(df[\"length_intro\"][34], \"\\n\")\n",
    "print(df[\"Experience\"][34])"
   ]
  },
  {
   "cell_type": "code",
   "execution_count": 63,
   "metadata": {
    "hidden": true
   },
   "outputs": [
    {
     "name": "stdout",
     "output_type": "stream",
     "text": [
      "Beth Rock\n",
      "3\n",
      "290 \n",
      "\n",
      "Researchers and educators focus much of their efforts on understanding the various strategies and methods to increase the effectiveness of the student learning environment. As schools move toward incorporating technology into every aspect of the curriculum as well as teacher requirements, methods for effectively implementing digital applications into the classroom have become a cornerstone of educational community discussions. The current generation has grown up in a digital age surrounded by technology. As teachers negotiate best practices in a 21st century classroom, educators are tasked with how to utilize technology in an effort to capitalize on student motivation and engagement. As a school improvement coordinator, part of my job is to track the technology that teachers are using to supplement their curriculum. Through teacher surveys and team meetings, I partner with teachers to examine the tools that they are using. Budget decisions drive many of these conversations, but perhaps our teams should be looking more closely at the level of student engagement and alignment with the curriculum. With so many supplemental digital programs available, it is important to carefully choose each one with purpose as opposed to inviting the novelty of a new program to take up space within the instructional day. Educators are not in complete agreement on how to effectively use technology or the presence that it should have within curriculum and instruction. Some maintain that technology integration is helpful, meaningful, and necessary for a school to function successfully, while others are not only hesitant to use technology, but are convinced that it is a distraction from core educational practices. This literature review will examine the components to be considered when incorporating technology into the school day as well as outline concerns with relying too heavily on this practice.\n"
     ]
    }
   ],
   "source": [
    "#Median\n",
    "\n",
    "print(df[\"author\"][9])\n",
    "print(df[\"Peer Reviewers\"][9])\n",
    "print(df[\"length_intro\"][9], \"\\n\")\n",
    "print(df[\"Experience\"][9])"
   ]
  },
  {
   "cell_type": "markdown",
   "metadata": {
    "hidden": true
   },
   "source": [
    "### Readability tests\n",
    "\n",
    "font: https://pypi.org/project/textatistic/\n",
    "\n",
    "font: https://www.researchgate.net/publication/262209424_Do_NLP_and_machine_learning_improve_traditional_readability_formulas\n",
    "\n",
    "**Over view of readability tests**\n",
    "- Determine readability of an English passage\n",
    "- Scaleranging from primary school up to college graduate level \n",
    "- A mathematical formula utilizing word, syllable and sentence count \n",
    "- Used in fake news and opinion spam detection\n",
    "\n",
    "**Readability text examples**\n",
    "- ***Flesch reading ease*** https://en.wikipedia.org/wiki/Flesch%E2%80%93Kincaid_readability_tests \n",
    "\n",
    "> One of the oldest and most widely used tests\n",
    "\n",
    "> Dependent on two factors - Averagee sentence lenght/ Average number of syllables\n",
    "\n",
    "> Higherthescore,greaterthereadability\n",
    "\n",
    "- ***Gunning fog index*** \n",
    "\n",
    "> 1954\n",
    "\n",
    "> Dependent on - Averagee sentence lenght Greater the percentage of complex words, harder the text is to read\n",
    "\n",
    "> Higher the index, lesser the readability\n",
    "\n",
    "\n",
    "- Simple Measure of Gobbledygook(SMOG)\n",
    "- Dale-Challscore\n",
    "\n"
   ]
  },
  {
   "attachments": {
    "Screen%20Shot%202021-10-07%20at%2012.08.08%20PM.png": {
     "image/png": "[encoded data removed]"
    }
   },
   "cell_type": "markdown",
   "metadata": {
    "hidden": true
   },
   "source": [
    "![Screen%20Shot%202021-10-07%20at%2012.08.08%20PM.png](attachment:Screen%20Shot%202021-10-07%20at%2012.08.08%20PM.png)"
   ]
  },
  {
   "cell_type": "code",
   "execution_count": 559,
   "metadata": {
    "hidden": true
   },
   "outputs": [
    {
     "name": "stdout",
     "output_type": "stream",
     "text": [
      "Very easy to read\n"
     ]
    }
   ],
   "source": [
    "score = 80\n",
    "\n",
    "if score <= 50:\n",
    "    print(\"Dificult to read\")\n",
    "elif score < 60:\n",
    "    print(\"Faire dificult to read\")\n",
    "elif score > 60 and score < 80:\n",
    "    print(\"Easy to read\")\n",
    "elif score >= 80:\n",
    "    print(\"Very easy to read\")\n",
    "    "
   ]
  },
  {
   "attachments": {
    "Screen%20Shot%202021-10-07%20at%2011.26.24%20AM.png": {
     "image/png": "[encoded data removed]"
    }
   },
   "cell_type": "markdown",
   "metadata": {
    "hidden": true
   },
   "source": [
    "![Screen%20Shot%202021-10-07%20at%2011.26.24%20AM.png](attachment:Screen%20Shot%202021-10-07%20at%2011.26.24%20AM.png)"
   ]
  },
  {
   "cell_type": "code",
   "execution_count": 474,
   "metadata": {
    "hidden": true
   },
   "outputs": [
    {
     "name": "stdout",
     "output_type": "stream",
     "text": [
      "Select a csv document:\n",
      "['Works_Experience_Graded.csv', '.DS_Store', 'WorksAuthorIntroRef.csv', 'Works_40_50_AuthorIntroRef.csv', 'EPOL481.csv', '.ipynb_checkpoints']\n",
      "\n",
      "Works_Experience_Graded.csv\n"
     ]
    }
   ],
   "source": [
    "table_name = input(f\"Select a csv document:\\n{os.listdir(TABLES_DIR)}\\n\\n\")"
   ]
  },
  {
   "cell_type": "code",
   "execution_count": 475,
   "metadata": {
    "hidden": true
   },
   "outputs": [
    {
     "data": {
      "text/plain": [
       "Index(['author', 'Experience', 'Experience_Rodrigo', 'Experience_Shang',\n",
       "       'Experience_Jen', 'Peer Reviewers'],\n",
       "      dtype='object')"
      ]
     },
     "execution_count": 475,
     "metadata": {},
     "output_type": "execute_result"
    }
   ],
   "source": [
    "df = pd.read_csv(f\"{TABLES_DIR}/{table_name}\") #ADD doctitle.csv - doc with the works url\n",
    "df.columns"
   ]
  },
  {
   "cell_type": "code",
   "execution_count": 64,
   "metadata": {
    "hidden": true
   },
   "outputs": [],
   "source": [
    "from textatistic import Textatistic"
   ]
  },
  {
   "cell_type": "code",
   "execution_count": 65,
   "metadata": {
    "hidden": true
   },
   "outputs": [],
   "source": [
    "readability_scores_geral =  Textatistic(str(df['Experience'])).scores"
   ]
  },
  {
   "cell_type": "code",
   "execution_count": 66,
   "metadata": {
    "hidden": true
   },
   "outputs": [
    {
     "name": "stdout",
     "output_type": "stream",
     "text": [
      "readability_scores_geral   86.59570523027465\n",
      "readability_scores_geral   5.024709218567551\n"
     ]
    }
   ],
   "source": [
    "print('readability_scores_geral  ' , readability_scores_geral['flesch_score'])\n",
    "print('readability_scores_geral  ' , readability_scores_geral['gunningfog_score'])"
   ]
  },
  {
   "cell_type": "code",
   "execution_count": 68,
   "metadata": {
    "hidden": true
   },
   "outputs": [],
   "source": [
    "# df.head(12)"
   ]
  },
  {
   "cell_type": "code",
   "execution_count": 79,
   "metadata": {
    "hidden": true
   },
   "outputs": [],
   "source": [
    "# Create a Textatistic Object\n",
    "readability_scores_35 = Textatistic(str(df['Experience'][35])).scores\n",
    "readability_scores_36 = Textatistic(str(df['Experience'][36])).scores"
   ]
  },
  {
   "cell_type": "code",
   "execution_count": 80,
   "metadata": {
    "hidden": true
   },
   "outputs": [
    {
     "name": "stdout",
     "output_type": "stream",
     "text": [
      "flesch_score_35 =  41.02339690721652\n",
      "gunningfog_score_35 =  16.085066273932252\n"
     ]
    }
   ],
   "source": [
    "print('flesch_score_35 = ' , readability_scores_35['flesch_score'])\n",
    "print('gunningfog_score_35 = ', readability_scores_35['gunningfog_score'])"
   ]
  },
  {
   "cell_type": "code",
   "execution_count": 81,
   "metadata": {
    "hidden": true
   },
   "outputs": [
    {
     "name": "stdout",
     "output_type": "stream",
     "text": [
      "flesch_score_36 =  41.71842384105963\n",
      "gunningfog_score_36 =  18.17271523178808\n"
     ]
    }
   ],
   "source": [
    "print('flesch_score_36 = ' , readability_scores_36['flesch_score'])\n",
    "print('gunningfog_score_36 = ', readability_scores_36['gunningfog_score'])"
   ]
  },
  {
   "cell_type": "code",
   "execution_count": 82,
   "metadata": {
    "hidden": true
   },
   "outputs": [],
   "source": [
    "introExperience = []\n",
    "\n",
    "for intro_ in df[\"Experience\"]:\n",
    "    strings = str(intro_)\n",
    "    introExperience.append(strings)\n",
    "\n",
    "intro_GunningFog_scores = []\n",
    "\n",
    "for text in introExperience:\n",
    "    _scores = Textatistic(text).scores\n",
    "    fog_score = _scores['gunningfog_score']\n",
    "    intro_GunningFog_scores.append(int(fog_score))\n",
    "    \n",
    "df[\"gunningfog_score\"] = intro_GunningFog_scores"
   ]
  },
  {
   "cell_type": "code",
   "execution_count": 86,
   "metadata": {
    "hidden": true
   },
   "outputs": [],
   "source": [
    "intro_Flesch_scores = []\n",
    "\n",
    "for text in introExperience:\n",
    "    _scores = Textatistic(text).scores\n",
    "    \n",
    "    flesch_score = _scores['flesch_score']\n",
    "    intro_Flesch_scores.append(int(flesch_score))\n",
    "    \n",
    "df['flesch_score'] = intro_Flesch_scores"
   ]
  },
  {
   "cell_type": "code",
   "execution_count": null,
   "metadata": {
    "hidden": true
   },
   "outputs": [],
   "source": [
    "df.to_csv(f\"{TABLES_DIR}/intro2scores.csv\")"
   ]
  },
  {
   "cell_type": "code",
   "execution_count": 546,
   "metadata": {
    "hidden": true
   },
   "outputs": [],
   "source": [
    "df.to_excel(f\"{TABLES_DIR}/intro2scores.xls\")"
   ]
  },
  {
   "cell_type": "code",
   "execution_count": 97,
   "metadata": {
    "hidden": true
   },
   "outputs": [],
   "source": [
    "# print(df[['flesch_score', \"Peer Reviewers\"]])"
   ]
  },
  {
   "cell_type": "code",
   "execution_count": 98,
   "metadata": {
    "hidden": true
   },
   "outputs": [],
   "source": [
    "# for i in df.flesch_score:\n",
    "#     if i <= 50:\n",
    "#         print(f\"Dificult to read\")\n",
    "#     elif i < 60:\n",
    "#         print(\"Faire dificult to read\")\n",
    "#     elif i > 60 and i < 80:\n",
    "#         print(\"Easy to read\")\n",
    "#     elif i >= 80:\n",
    "#         print(\"Very easy to read\")"
   ]
  }
 ],
 "metadata": {
  "kernelspec": {
   "display_name": "Python 3",
   "language": "python",
   "name": "python3"
  },
  "language_info": {
   "codemirror_mode": {
    "name": "ipython",
    "version": 3
   },
   "file_extension": ".py",
   "mimetype": "text/x-python",
   "name": "python",
   "nbconvert_exporter": "python",
   "pygments_lexer": "ipython3",
   "version": "3.8.5"
  },
  "nbTranslate": {
   "displayLangs": [
    "*"
   ],
   "hotkey": "alt-t",
   "langInMainMenu": true,
   "sourceLang": "en",
   "targetLang": "fr",
   "useGoogleTranslate": true
  },
  "varInspector": {
   "cols": {
    "lenName": 16,
    "lenType": 16,
    "lenVar": 40
   },
   "kernels_config": {
    "python": {
     "delete_cmd_postfix": "",
     "delete_cmd_prefix": "del ",
     "library": "var_list.py",
     "varRefreshCmd": "print(var_dic_list())"
    },
    "r": {
     "delete_cmd_postfix": ") ",
     "delete_cmd_prefix": "rm(",
     "library": "var_list.r",
     "varRefreshCmd": "cat(var_dic_list()) "
    }
   },
   "position": {
    "height": "396px",
    "left": "1152px",
    "right": "20px",
    "top": "115px",
    "width": "555px"
   },
   "types_to_exclude": [
    "module",
    "function",
    "builtin_function_or_method",
    "instance",
    "_Feature"
   ],
   "window_display": false
  }
 },
 "nbformat": 4,
 "nbformat_minor": 4
}
