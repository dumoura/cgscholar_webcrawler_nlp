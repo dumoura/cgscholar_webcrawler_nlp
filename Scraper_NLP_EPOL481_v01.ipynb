{
 "cells": [
  {
   "cell_type": "markdown",
   "metadata": {},
   "source": [
    "## Settings"
   ]
  },
  {
   "cell_type": "code",
   "execution_count": 1,
   "metadata": {},
   "outputs": [],
   "source": [
    "# Importing libraries \n",
    "\n",
    "from bs4 import BeautifulSoup\n",
    "import pandas as pd\n",
    "from selenium import webdriver\n",
    "import time\n",
    "import requests\n",
    "from requests_html import HTML\n",
    "from urllib.parse import urlparse\n",
    "import os\n",
    "import pandas as pd\n",
    "from selenium import webdriver\n",
    "import time\n",
    "import requests\n",
    "from urllib.parse import urlparse\n",
    "import os"
   ]
  },
  {
   "cell_type": "code",
   "execution_count": 2,
   "metadata": {},
   "outputs": [
    {
     "name": "stdout",
     "output_type": "stream",
     "text": [
      "/Users/dumoura/Dev/PDev/CGScholar/Robot_cit/Notebook\n"
     ]
    }
   ],
   "source": [
    "# Setting work directories and files: getting current directory\n",
    "cwd = os.getcwd()\n",
    "print(cwd)"
   ]
  },
  {
   "cell_type": "code",
   "execution_count": 3,
   "metadata": {},
   "outputs": [],
   "source": [
    "# Setting work directories and files: crating work directories\n",
    "# Base_dir\n",
    "\n",
    "BASE_DIR = os.path.dirname(cwd) # base directory\n",
    "\n",
    "TABLES_DIR = os.path.join(BASE_DIR, \"tables\")\n",
    "META_DIR = os.path.join(BASE_DIR, \"metada\") \n",
    "\n",
    "# Make_dirs\n",
    "os.makedirs(TABLES_DIR, exist_ok=True)\n",
    "os.makedirs(META_DIR, exist_ok=True)"
   ]
  },
  {
   "cell_type": "code",
   "execution_count": 4,
   "metadata": {},
   "outputs": [
    {
     "data": {
      "text/plain": [
       "['.DS_Store',\n",
       " 'WorksAuthorIntroRef.csv',\n",
       " 'Works_40_50_AuthorIntroRef.csv',\n",
       " 'EPOL481.csv',\n",
       " '.ipynb_checkpoints']"
      ]
     },
     "execution_count": 4,
     "metadata": {},
     "output_type": "execute_result"
    }
   ],
   "source": [
    "os.listdir(TABLES_DIR)"
   ]
  },
  {
   "cell_type": "markdown",
   "metadata": {},
   "source": [
    "## Tables and URLs "
   ]
  },
  {
   "cell_type": "code",
   "execution_count": null,
   "metadata": {},
   "outputs": [],
   "source": [
    "table_name = input(f\"Select a csv document:\\n{os.listdir(TABLES_DIR)}\\n\\n\")"
   ]
  },
  {
   "cell_type": "code",
   "execution_count": null,
   "metadata": {},
   "outputs": [],
   "source": [
    "tab_df = pd.read_csv(f\"{TABLES_DIR}/{table_name}\") #ADD doctitle.csv - doc with the works url\n",
    "tab_df.columns"
   ]
  },
  {
   "cell_type": "code",
   "execution_count": null,
   "metadata": {},
   "outputs": [],
   "source": [
    "# get URLs and apply to the \"work_url_obj\" variable/object\n",
    "work_url_obj = tab_df['Work URL']\n",
    "# work_url_obj"
   ]
  },
  {
   "cell_type": "markdown",
   "metadata": {},
   "source": [
    "## Scraping Functions: authors_name, introduction, references"
   ]
  },
  {
   "cell_type": "markdown",
   "metadata": {},
   "source": [
    "### authors_name ### "
   ]
  },
  {
   "cell_type": "code",
   "execution_count": null,
   "metadata": {},
   "outputs": [],
   "source": [
    "# function to get the author's name\n",
    "\n",
    "def authors_name_getter(soup):\n",
    "    authors_lookup = soup.find_all(\"li\", attrs={\"authors publisher\"})\n",
    "    author = authors_lookup[0].text\n",
    "    author_name = author.split(\": \")[1]\n",
    "#     print(author_name)\n",
    "\n",
    "    return author_name"
   ]
  },
  {
   "cell_type": "markdown",
   "metadata": {},
   "source": [
    "### introduction"
   ]
  },
  {
   "cell_type": "code",
   "execution_count": null,
   "metadata": {},
   "outputs": [],
   "source": [
    "\n",
    "def introduction_text_getter(soup):\n",
    "    try:\n",
    "        results = soup.find_all(\"div\", attrs={\"class\":\"element section\"})\n",
    "        results_intro = results[0].contents[1]\n",
    "#         print(results_intro.text)\n",
    "        return results_intro.text\n",
    "    \n",
    "    except IndexError as e:\n",
    "#         print(\"Error has occured: \", e)\n",
    "        return e\n",
    "    \n",
    "    pass"
   ]
  },
  {
   "cell_type": "markdown",
   "metadata": {},
   "source": [
    "### references ### "
   ]
  },
  {
   "cell_type": "code",
   "execution_count": null,
   "metadata": {},
   "outputs": [],
   "source": [
    "def references_getter(soup):\n",
    "    try:\n",
    "        results = soup.find_all(\"div\", attrs={\"class\":\"element section\"})\n",
    "        return results[-1].contents[1].text\n",
    "    \n",
    "    except IndexError as e:\n",
    "#         print(\"Error has occured: \", e)\n",
    "        return e\n",
    "    \n",
    "    pass"
   ]
  },
  {
   "cell_type": "markdown",
   "metadata": {},
   "source": [
    "## Crawler ##"
   ]
  },
  {
   "cell_type": "markdown",
   "metadata": {},
   "source": [
    "### cgscholar login ###"
   ]
  },
  {
   "cell_type": "code",
   "execution_count": null,
   "metadata": {},
   "outputs": [],
   "source": [
    "# ADD your USERNAME and PASSWORD below \n",
    "\n",
    "USERNAME = \"\" \n",
    "PASSWORD =  \"\"\n",
    "drive_adress = \"\"\n",
    "url = \"https://cgscholar.com/identity/users/sign_in\""
   ]
  },
  {
   "cell_type": "markdown",
   "metadata": {},
   "source": [
    "### webdriver ###"
   ]
  },
  {
   "cell_type": "code",
   "execution_count": null,
   "metadata": {},
   "outputs": [],
   "source": [
    "browser = webdriver.Chrome(drive_adress)\n",
    "url_obj = f\"{url}\"\n",
    "browser.get(url_obj)\n",
    "\n",
    "time.sleep(1.5) \n",
    "username_el = browser.find_element_by_name(\"user[login]\")\n",
    "username_el.send_keys(f\"{USERNAME}\")\n",
    "\n",
    "password_el = browser.find_element_by_name(\"user[password]\")\n",
    "password_el.send_keys(f\"{PASSWORD}\")\n",
    "\n",
    "time.sleep(1.5)\n",
    "submit_btn_el = browser.find_element_by_css_selector(\"input[type='submit']\")\n",
    "submit_btn_el.click()"
   ]
  },
  {
   "cell_type": "markdown",
   "metadata": {},
   "source": [
    "### crawling ###"
   ]
  },
  {
   "cell_type": "code",
   "execution_count": null,
   "metadata": {},
   "outputs": [],
   "source": [
    "url_obj = work_url_obj\n",
    "work = []\n",
    "\n",
    "for url in url_obj:\n",
    "    time.sleep(1.5)\n",
    "    url_docment = str(url)\n",
    "    \n",
    "    browser.get(url_docment)\n",
    "    body_el = browser.find_element_by_css_selector(\"body\")\n",
    "    html_str = body_el.get_attribute(\"innerHTML\")\n",
    "    soup = BeautifulSoup(html_str, \"lxml\")\n",
    "    \n",
    "    for i in soup: \n",
    "        author_name = authors_name_getter(soup)\n",
    "        introduction = introduction_text_getter(soup)\n",
    "        references = references_getter(soup)\n",
    "        print(author_name)\n",
    "\n",
    "        work.append([author_name, introduction, references])\n",
    "        df = pd.DataFrame(work, columns= [\"author\",\"introduction\", \"references\"])\n",
    "\n",
    "        df.to_csv(f\"{TABLES_DIR}/Works_40_50_AuthorIntroRef.csv\", index=False)"
   ]
  },
  {
   "cell_type": "markdown",
   "metadata": {},
   "source": [
    "#### Open Work dataset ###"
   ]
  },
  {
   "cell_type": "code",
   "execution_count": 131,
   "metadata": {},
   "outputs": [
    {
     "name": "stdout",
     "output_type": "stream",
     "text": [
      "Select a csv document:\n",
      "['.DS_Store', 'WorksAuthorIntroRef.csv', 'Works_40_50_AuthorIntroRef.csv', 'EPOL481.csv', '.ipynb_checkpoints']\n",
      "\n",
      "WorksAuthorIntroRef.csv\n"
     ]
    }
   ],
   "source": [
    "table_name = input(f\"Select a csv document:\\n{os.listdir(TABLES_DIR)}\\n\\n\")"
   ]
  },
  {
   "cell_type": "code",
   "execution_count": 132,
   "metadata": {},
   "outputs": [],
   "source": [
    "tab_df = pd.read_csv(f\"{TABLES_DIR}/{table_name}\") #ADD doctitle.csv - doc with the works url"
   ]
  },
  {
   "cell_type": "code",
   "execution_count": 121,
   "metadata": {},
   "outputs": [],
   "source": [
    "# tab_df.head(5)\n",
    "# print(tab_df.introduction)"
   ]
  },
  {
   "cell_type": "markdown",
   "metadata": {},
   "source": [
    "### Pre processing - basic cleaning"
   ]
  },
  {
   "cell_type": "code",
   "execution_count": 138,
   "metadata": {},
   "outputs": [],
   "source": [
    "def cleaning_intro(df):\n",
    "    intro_texts = str(df.replace('\\xa0', ' '))\n",
    "    intro_texts = str(intro_texts.replace('\\n', ' '))\n",
    "    \n",
    "    return intro_texts\n"
   ]
  },
  {
   "cell_type": "code",
   "execution_count": 139,
   "metadata": {},
   "outputs": [],
   "source": [
    "intro_cld = []\n",
    "\n",
    "for i in tab_df.introduction:\n",
    "    intros_ = cleaning_intro(i)\n",
    "    intro_cld.append(intros_)\n",
    "\n",
    "tab_df[\"works_intro\"] = intro_cld\n"
   ]
  },
  {
   "cell_type": "code",
   "execution_count": 151,
   "metadata": {},
   "outputs": [
    {
     "data": {
      "text/html": [
       "<div>\n",
       "<style scoped>\n",
       "    .dataframe tbody tr th:only-of-type {\n",
       "        vertical-align: middle;\n",
       "    }\n",
       "\n",
       "    .dataframe tbody tr th {\n",
       "        vertical-align: top;\n",
       "    }\n",
       "\n",
       "    .dataframe thead th {\n",
       "        text-align: right;\n",
       "    }\n",
       "</style>\n",
       "<table border=\"1\" class=\"dataframe\">\n",
       "  <thead>\n",
       "    <tr style=\"text-align: right;\">\n",
       "      <th></th>\n",
       "      <th>author</th>\n",
       "      <th>introduction</th>\n",
       "      <th>references</th>\n",
       "      <th>works_intro</th>\n",
       "    </tr>\n",
       "  </thead>\n",
       "  <tbody>\n",
       "    <tr>\n",
       "      <th>0</th>\n",
       "      <td>Aaron Gonzales Aaron</td>\n",
       "      <td>The social context of education aims to identi...</td>\n",
       "      <td>*Barwegen, L., Falciani, N., Putnam, S., Reame...</td>\n",
       "      <td>The social context of education aims to identi...</td>\n",
       "    </tr>\n",
       "  </tbody>\n",
       "</table>\n",
       "</div>"
      ],
      "text/plain": [
       "                 author                                       introduction  \\\n",
       "0  Aaron Gonzales Aaron  The social context of education aims to identi...   \n",
       "\n",
       "                                          references  \\\n",
       "0  *Barwegen, L., Falciani, N., Putnam, S., Reame...   \n",
       "\n",
       "                                         works_intro  \n",
       "0  The social context of education aims to identi...  "
      ]
     },
     "execution_count": 151,
     "metadata": {},
     "output_type": "execute_result"
    }
   ],
   "source": [
    "tab_df.head(1)"
   ]
  },
  {
   "cell_type": "code",
   "execution_count": 152,
   "metadata": {},
   "outputs": [],
   "source": [
    "tab_df.drop(\"introduction\", axis=1, inplace=True)"
   ]
  },
  {
   "cell_type": "code",
   "execution_count": 251,
   "metadata": {},
   "outputs": [
    {
     "data": {
      "text/html": [
       "<div>\n",
       "<style scoped>\n",
       "    .dataframe tbody tr th:only-of-type {\n",
       "        vertical-align: middle;\n",
       "    }\n",
       "\n",
       "    .dataframe tbody tr th {\n",
       "        vertical-align: top;\n",
       "    }\n",
       "\n",
       "    .dataframe thead th {\n",
       "        text-align: right;\n",
       "    }\n",
       "</style>\n",
       "<table border=\"1\" class=\"dataframe\">\n",
       "  <thead>\n",
       "    <tr style=\"text-align: right;\">\n",
       "      <th></th>\n",
       "      <th>author</th>\n",
       "      <th>references</th>\n",
       "      <th>works_intro</th>\n",
       "    </tr>\n",
       "  </thead>\n",
       "  <tbody>\n",
       "    <tr>\n",
       "      <th>0</th>\n",
       "      <td>Aaron Gonzales Aaron</td>\n",
       "      <td>*Barwegen, L., Falciani, N., Putnam, S., Reame...</td>\n",
       "      <td>The social context of education aims to identi...</td>\n",
       "    </tr>\n",
       "    <tr>\n",
       "      <th>1</th>\n",
       "      <td>Abasin Ludin</td>\n",
       "      <td>Those of us working in the educational field h...</td>\n",
       "      <td>Formal and Informal learning are an integral p...</td>\n",
       "    </tr>\n",
       "    <tr>\n",
       "      <th>2</th>\n",
       "      <td>Akash Saini</td>\n",
       "      <td>Blazauskas, T., Maskeliunas, R., Bartkute, R.,...</td>\n",
       "      <td>The education sector has historically been a l...</td>\n",
       "    </tr>\n",
       "    <tr>\n",
       "      <th>5</th>\n",
       "      <td>Amena Saleem</td>\n",
       "      <td>Anthony, Glenda. “Active learning in a constru...</td>\n",
       "      <td>As a second/third grade teacher, I have recent...</td>\n",
       "    </tr>\n",
       "    <tr>\n",
       "      <th>6</th>\n",
       "      <td>Amy Petrinos</td>\n",
       "      <td>In conclusion, formative assessment can help t...</td>\n",
       "      <td>Image: eSchool News: Teachers share formative ...</td>\n",
       "    </tr>\n",
       "    <tr>\n",
       "      <th>7</th>\n",
       "      <td>Amy Trietiak</td>\n",
       "      <td>With a need to meet industry demands for skill...</td>\n",
       "      <td>As both a full-time student and an educator in...</td>\n",
       "    </tr>\n",
       "    <tr>\n",
       "      <th>8</th>\n",
       "      <td>Andrew Walker III</td>\n",
       "      <td>Due to the rapid change of technology used in ...</td>\n",
       "      <td>I consider myself an active video gamer, one o...</td>\n",
       "    </tr>\n",
       "    <tr>\n",
       "      <th>10</th>\n",
       "      <td>Arikpo Dada</td>\n",
       "      <td>Although there is still much research needed i...</td>\n",
       "      <td>“What a year!” That was what many of us said a...</td>\n",
       "    </tr>\n",
       "    <tr>\n",
       "      <th>11</th>\n",
       "      <td>Ashley Roberts</td>\n",
       "      <td>Further research is needed to assess the influ...</td>\n",
       "      <td>Figure 1. UNICEF 2018 When accepting a positio...</td>\n",
       "    </tr>\n",
       "    <tr>\n",
       "      <th>12</th>\n",
       "      <td>Beth Rock</td>\n",
       "      <td>*Connectivism Learning Theory. (2021, May 27)....</td>\n",
       "      <td>Researchers and educators focus much of their ...</td>\n",
       "    </tr>\n",
       "    <tr>\n",
       "      <th>13</th>\n",
       "      <td>Brianna Davis</td>\n",
       "      <td>*Archway Community Services. (2021). [Dimensio...</td>\n",
       "      <td>Since the inception of modern education in the...</td>\n",
       "    </tr>\n",
       "    <tr>\n",
       "      <th>14</th>\n",
       "      <td>Carissa Davis</td>\n",
       "      <td>\"By age 16, approximately 25% of children and ...</td>\n",
       "      <td>(Grafted Integrated Health Network, 2014) Beco...</td>\n",
       "    </tr>\n",
       "    <tr>\n",
       "      <th>15</th>\n",
       "      <td>Carly Zufelt</td>\n",
       "      <td>The collaborative learning espoused by Bozarth...</td>\n",
       "      <td>“Learning is no longer an activity that only o...</td>\n",
       "    </tr>\n",
       "    <tr>\n",
       "      <th>18</th>\n",
       "      <td>Christina Banta</td>\n",
       "      <td>*Bierman, K. L., &amp; Motamendi, M. (2015). Socia...</td>\n",
       "      <td>Traditionally, school was a place for learning...</td>\n",
       "    </tr>\n",
       "    <tr>\n",
       "      <th>23</th>\n",
       "      <td>Danya Ata</td>\n",
       "      <td>Overall, it is evidence based on research that...</td>\n",
       "      <td>Social-Emotional Learning, or SEL, has been a ...</td>\n",
       "    </tr>\n",
       "    <tr>\n",
       "      <th>24</th>\n",
       "      <td>David Stack</td>\n",
       "      <td>classroom. (n.d.). The Merriam-Webster.Com Dic...</td>\n",
       "      <td>My background is in Engineering, Education, an...</td>\n",
       "    </tr>\n",
       "    <tr>\n",
       "      <th>26</th>\n",
       "      <td>Disha Kale</td>\n",
       "      <td>Blended Learning: Making it Work in Your Class...</td>\n",
       "      <td>The way I learned when I attended school was t...</td>\n",
       "    </tr>\n",
       "    <tr>\n",
       "      <th>27</th>\n",
       "      <td>Donna Moores</td>\n",
       "      <td>Some areas that I see there needing to be more...</td>\n",
       "      <td>The past three school years the elementary sch...</td>\n",
       "    </tr>\n",
       "    <tr>\n",
       "      <th>28</th>\n",
       "      <td>Erica Krueger</td>\n",
       "      <td>Bhutoria, A., &amp; Vignoles, A. (2018). Do Financ...</td>\n",
       "      <td>We live in a world that is causing more rapid ...</td>\n",
       "    </tr>\n",
       "    <tr>\n",
       "      <th>30</th>\n",
       "      <td>Haley Peterson</td>\n",
       "      <td>Over 100 years ago, career and technical educa...</td>\n",
       "      <td>I frequently ask myself, \"what is the primary ...</td>\n",
       "    </tr>\n",
       "    <tr>\n",
       "      <th>32</th>\n",
       "      <td>James Wilson</td>\n",
       "      <td>This literature review reveals that:\\n\\nChange...</td>\n",
       "      <td>Still don't know what I was waitin' for And m...</td>\n",
       "    </tr>\n",
       "    <tr>\n",
       "      <th>34</th>\n",
       "      <td>Jeremy Graham</td>\n",
       "      <td>Above the Noise. (2019, May 8). Is Homework Ne...</td>\n",
       "      <td>From my own personal experience over the past ...</td>\n",
       "    </tr>\n",
       "    <tr>\n",
       "      <th>35</th>\n",
       "      <td>Jessie Mundo Gonzalez</td>\n",
       "      <td>To conclude, 21st century learning environment...</td>\n",
       "      <td>21st Century LearnersFor the past two decades,...</td>\n",
       "    </tr>\n",
       "    <tr>\n",
       "      <th>38</th>\n",
       "      <td>Joseph Fatheree</td>\n",
       "      <td>The literature showed that providing access to...</td>\n",
       "      <td>According to UNESCO (2020), 94% of the world’s...</td>\n",
       "    </tr>\n",
       "    <tr>\n",
       "      <th>41</th>\n",
       "      <td>Katharyn Sinelli</td>\n",
       "      <td>Using Kalantzis and Cope’s (2012) dimensions o...</td>\n",
       "      <td>In this review of literature, I will explore t...</td>\n",
       "    </tr>\n",
       "    <tr>\n",
       "      <th>43</th>\n",
       "      <td>Kimberly Musolf</td>\n",
       "      <td>The task ahead, specifically for leaders in po...</td>\n",
       "      <td>Introduction Last year I transitioned into a n...</td>\n",
       "    </tr>\n",
       "    <tr>\n",
       "      <th>44</th>\n",
       "      <td>Kirsten Ng</td>\n",
       "      <td>In closing, truly transformative learning fost...</td>\n",
       "      <td>I began this assignment wanting to better unde...</td>\n",
       "    </tr>\n",
       "    <tr>\n",
       "      <th>45</th>\n",
       "      <td>Krista Sands</td>\n",
       "      <td>Akpan., J.P., Beard, L.A. (2016). Using constr...</td>\n",
       "      <td>Fig. 1 - C. Milton Wright High School (n.d.). ...</td>\n",
       "    </tr>\n",
       "    <tr>\n",
       "      <th>46</th>\n",
       "      <td>Kriti Mahajan</td>\n",
       "      <td>Fig6: [Transformative Learning]. (2015). https...</td>\n",
       "      <td>Fig1: [Transformative Learning]. (2020). https...</td>\n",
       "    </tr>\n",
       "    <tr>\n",
       "      <th>47</th>\n",
       "      <td>Lauren Purcell</td>\n",
       "      <td>NaN</td>\n",
       "      <td>Baby Boomers worldwide retire, leaving much ...</td>\n",
       "    </tr>\n",
       "    <tr>\n",
       "      <th>48</th>\n",
       "      <td>LeeAnn Grant</td>\n",
       "      <td>The ISTE Standards provide a framework for stu...</td>\n",
       "      <td>Figure 1. ISTE Logo (International Society for...</td>\n",
       "    </tr>\n",
       "    <tr>\n",
       "      <th>49</th>\n",
       "      <td>Libby Otto</td>\n",
       "      <td>Conclusion and Recommendations\\nThose without ...</td>\n",
       "      <td>The COVID-19 pandemic has not only shone a lig...</td>\n",
       "    </tr>\n",
       "    <tr>\n",
       "      <th>50</th>\n",
       "      <td>Lily Defino</td>\n",
       "      <td>Ahmad, S., Ch., A.H., Batool, A., Sittar, K., ...</td>\n",
       "      <td>This literature review is directly tied to my ...</td>\n",
       "    </tr>\n",
       "    <tr>\n",
       "      <th>51</th>\n",
       "      <td>Lisa-Ann Barnes</td>\n",
       "      <td>“A picture is worth a thousand words” is a com...</td>\n",
       "      <td>Videos are an expected and integral component ...</td>\n",
       "    </tr>\n",
       "    <tr>\n",
       "      <th>59</th>\n",
       "      <td>Monique Tanon</td>\n",
       "      <td>*Abramovich, A. (2018). 5 examples of AI in ou...</td>\n",
       "      <td>Hello! I'm sorry that you're receiveing this l...</td>\n",
       "    </tr>\n",
       "    <tr>\n",
       "      <th>60</th>\n",
       "      <td>Natalie Andreas</td>\n",
       "      <td>In a world with seemingly endless distractions...</td>\n",
       "      <td>In a world with seemingly endless distractions...</td>\n",
       "    </tr>\n",
       "    <tr>\n",
       "      <th>61</th>\n",
       "      <td>Nicholas Tomasso</td>\n",
       "      <td>The evolution of technology and educational te...</td>\n",
       "      <td>The use of technology in the classroom has re...</td>\n",
       "    </tr>\n",
       "    <tr>\n",
       "      <th>62</th>\n",
       "      <td>Nora Alomari</td>\n",
       "      <td>*Clapper, T. C. (2010). Creating the safe lear...</td>\n",
       "      <td>Human learning begins in one’s life the moment...</td>\n",
       "    </tr>\n",
       "    <tr>\n",
       "      <th>64</th>\n",
       "      <td>Phuong Fiona Nguyen</td>\n",
       "      <td>There are many different, even contradictory, ...</td>\n",
       "      <td>The first time I learned about Progressive Edu...</td>\n",
       "    </tr>\n",
       "    <tr>\n",
       "      <th>65</th>\n",
       "      <td>Rachel Feldman</td>\n",
       "      <td>Authentic pedagogy changes the focus of the cl...</td>\n",
       "      <td>Fig. 1: Montessori preschool classroom (Saptie...</td>\n",
       "    </tr>\n",
       "    <tr>\n",
       "      <th>66</th>\n",
       "      <td>Ryan Martin</td>\n",
       "      <td>Reading through the research on blended learni...</td>\n",
       "      <td>During the 2019-2020 school year my district b...</td>\n",
       "    </tr>\n",
       "    <tr>\n",
       "      <th>69</th>\n",
       "      <td>Sarah Mc Fadden</td>\n",
       "      <td>*Brown, Phillip, et al. “Introduction: Educati...</td>\n",
       "      <td>For the past eight years, I have taught middle...</td>\n",
       "    </tr>\n",
       "    <tr>\n",
       "      <th>70</th>\n",
       "      <td>Shana K. Benford</td>\n",
       "      <td>In examining the definitions, the significance...</td>\n",
       "      <td>My interest in transformative or reflexive lea...</td>\n",
       "    </tr>\n",
       "    <tr>\n",
       "      <th>73</th>\n",
       "      <td>Sydney Berusch</td>\n",
       "      <td>Based on my research, iPads have the potential...</td>\n",
       "      <td>iPads (Kickstarter, 2021) Our course, hence th...</td>\n",
       "    </tr>\n",
       "    <tr>\n",
       "      <th>77</th>\n",
       "      <td>Victoria Dransoff</td>\n",
       "      <td>*Birgili, B., Seggie, F. N., &amp; Oğuz, E. (2021)...</td>\n",
       "      <td>This is my 10th year in education, my 5th serv...</td>\n",
       "    </tr>\n",
       "    <tr>\n",
       "      <th>78</th>\n",
       "      <td>William Green</td>\n",
       "      <td>Technology integration has been and will conti...</td>\n",
       "      <td>As we make our way through teaching in the COV...</td>\n",
       "    </tr>\n",
       "    <tr>\n",
       "      <th>79</th>\n",
       "      <td>Xinyi Zhang</td>\n",
       "      <td>This research has defined educational inequali...</td>\n",
       "      <td>After completing my entire K-12 education in m...</td>\n",
       "    </tr>\n",
       "  </tbody>\n",
       "</table>\n",
       "</div>"
      ],
      "text/plain": [
       "                   author                                         references  \\\n",
       "0    Aaron Gonzales Aaron  *Barwegen, L., Falciani, N., Putnam, S., Reame...   \n",
       "1            Abasin Ludin  Those of us working in the educational field h...   \n",
       "2             Akash Saini  Blazauskas, T., Maskeliunas, R., Bartkute, R.,...   \n",
       "5            Amena Saleem  Anthony, Glenda. “Active learning in a constru...   \n",
       "6            Amy Petrinos  In conclusion, formative assessment can help t...   \n",
       "7            Amy Trietiak  With a need to meet industry demands for skill...   \n",
       "8       Andrew Walker III  Due to the rapid change of technology used in ...   \n",
       "10            Arikpo Dada  Although there is still much research needed i...   \n",
       "11         Ashley Roberts  Further research is needed to assess the influ...   \n",
       "12              Beth Rock  *Connectivism Learning Theory. (2021, May 27)....   \n",
       "13          Brianna Davis  *Archway Community Services. (2021). [Dimensio...   \n",
       "14          Carissa Davis  \"By age 16, approximately 25% of children and ...   \n",
       "15           Carly Zufelt  The collaborative learning espoused by Bozarth...   \n",
       "18        Christina Banta  *Bierman, K. L., & Motamendi, M. (2015). Socia...   \n",
       "23              Danya Ata  Overall, it is evidence based on research that...   \n",
       "24            David Stack  classroom. (n.d.). The Merriam-Webster.Com Dic...   \n",
       "26             Disha Kale  Blended Learning: Making it Work in Your Class...   \n",
       "27           Donna Moores  Some areas that I see there needing to be more...   \n",
       "28          Erica Krueger  Bhutoria, A., & Vignoles, A. (2018). Do Financ...   \n",
       "30         Haley Peterson  Over 100 years ago, career and technical educa...   \n",
       "32           James Wilson  This literature review reveals that:\\n\\nChange...   \n",
       "34          Jeremy Graham  Above the Noise. (2019, May 8). Is Homework Ne...   \n",
       "35  Jessie Mundo Gonzalez  To conclude, 21st century learning environment...   \n",
       "38        Joseph Fatheree  The literature showed that providing access to...   \n",
       "41       Katharyn Sinelli  Using Kalantzis and Cope’s (2012) dimensions o...   \n",
       "43        Kimberly Musolf  The task ahead, specifically for leaders in po...   \n",
       "44             Kirsten Ng  In closing, truly transformative learning fost...   \n",
       "45           Krista Sands  Akpan., J.P., Beard, L.A. (2016). Using constr...   \n",
       "46          Kriti Mahajan  Fig6: [Transformative Learning]. (2015). https...   \n",
       "47         Lauren Purcell                                                NaN   \n",
       "48           LeeAnn Grant  The ISTE Standards provide a framework for stu...   \n",
       "49             Libby Otto  Conclusion and Recommendations\\nThose without ...   \n",
       "50            Lily Defino  Ahmad, S., Ch., A.H., Batool, A., Sittar, K., ...   \n",
       "51        Lisa-Ann Barnes  “A picture is worth a thousand words” is a com...   \n",
       "59          Monique Tanon  *Abramovich, A. (2018). 5 examples of AI in ou...   \n",
       "60        Natalie Andreas  In a world with seemingly endless distractions...   \n",
       "61       Nicholas Tomasso  The evolution of technology and educational te...   \n",
       "62           Nora Alomari  *Clapper, T. C. (2010). Creating the safe lear...   \n",
       "64    Phuong Fiona Nguyen  There are many different, even contradictory, ...   \n",
       "65         Rachel Feldman  Authentic pedagogy changes the focus of the cl...   \n",
       "66            Ryan Martin  Reading through the research on blended learni...   \n",
       "69        Sarah Mc Fadden  *Brown, Phillip, et al. “Introduction: Educati...   \n",
       "70       Shana K. Benford  In examining the definitions, the significance...   \n",
       "73         Sydney Berusch  Based on my research, iPads have the potential...   \n",
       "77      Victoria Dransoff  *Birgili, B., Seggie, F. N., & Oğuz, E. (2021)...   \n",
       "78          William Green  Technology integration has been and will conti...   \n",
       "79            Xinyi Zhang  This research has defined educational inequali...   \n",
       "\n",
       "                                          works_intro  \n",
       "0   The social context of education aims to identi...  \n",
       "1   Formal and Informal learning are an integral p...  \n",
       "2   The education sector has historically been a l...  \n",
       "5   As a second/third grade teacher, I have recent...  \n",
       "6   Image: eSchool News: Teachers share formative ...  \n",
       "7   As both a full-time student and an educator in...  \n",
       "8   I consider myself an active video gamer, one o...  \n",
       "10  “What a year!” That was what many of us said a...  \n",
       "11  Figure 1. UNICEF 2018 When accepting a positio...  \n",
       "12  Researchers and educators focus much of their ...  \n",
       "13  Since the inception of modern education in the...  \n",
       "14  (Grafted Integrated Health Network, 2014) Beco...  \n",
       "15  “Learning is no longer an activity that only o...  \n",
       "18  Traditionally, school was a place for learning...  \n",
       "23  Social-Emotional Learning, or SEL, has been a ...  \n",
       "24  My background is in Engineering, Education, an...  \n",
       "26  The way I learned when I attended school was t...  \n",
       "27  The past three school years the elementary sch...  \n",
       "28  We live in a world that is causing more rapid ...  \n",
       "30  I frequently ask myself, \"what is the primary ...  \n",
       "32   Still don't know what I was waitin' for And m...  \n",
       "34  From my own personal experience over the past ...  \n",
       "35  21st Century LearnersFor the past two decades,...  \n",
       "38  According to UNESCO (2020), 94% of the world’s...  \n",
       "41  In this review of literature, I will explore t...  \n",
       "43  Introduction Last year I transitioned into a n...  \n",
       "44  I began this assignment wanting to better unde...  \n",
       "45  Fig. 1 - C. Milton Wright High School (n.d.). ...  \n",
       "46  Fig1: [Transformative Learning]. (2020). https...  \n",
       "47    Baby Boomers worldwide retire, leaving much ...  \n",
       "48  Figure 1. ISTE Logo (International Society for...  \n",
       "49  The COVID-19 pandemic has not only shone a lig...  \n",
       "50  This literature review is directly tied to my ...  \n",
       "51  Videos are an expected and integral component ...  \n",
       "59  Hello! I'm sorry that you're receiveing this l...  \n",
       "60  In a world with seemingly endless distractions...  \n",
       "61   The use of technology in the classroom has re...  \n",
       "62  Human learning begins in one’s life the moment...  \n",
       "64  The first time I learned about Progressive Edu...  \n",
       "65  Fig. 1: Montessori preschool classroom (Saptie...  \n",
       "66  During the 2019-2020 school year my district b...  \n",
       "69  For the past eight years, I have taught middle...  \n",
       "70  My interest in transformative or reflexive lea...  \n",
       "73  iPads (Kickstarter, 2021) Our course, hence th...  \n",
       "77  This is my 10th year in education, my 5th serv...  \n",
       "78  As we make our way through teaching in the COV...  \n",
       "79  After completing my entire K-12 education in m...  "
      ]
     },
     "execution_count": 251,
     "metadata": {},
     "output_type": "execute_result"
    }
   ],
   "source": [
    "df_erros = tab_df[\"works_intro\"] == \"list index out of range\"\n",
    "df_intro_texts = tab_df[~df_erros]\n",
    "df_intro_texts"
   ]
  },
  {
   "cell_type": "markdown",
   "metadata": {},
   "source": [
    "### Pre processing - creating DFs ###"
   ]
  },
  {
   "cell_type": "code",
   "execution_count": 244,
   "metadata": {},
   "outputs": [
    {
     "name": "stdout",
     "output_type": "stream",
     "text": [
      "Select a csv document:\n",
      "['.DS_Store', 'WorksAuthorIntroRef.csv', 'Works_40_50_AuthorIntroRef.csv', 'EPOL481.csv', '.ipynb_checkpoints']\n",
      "\n",
      "EPOL481.csv\n"
     ]
    }
   ],
   "source": [
    "table_name = input(f\"Select a csv document:\\n{os.listdir(TABLES_DIR)}\\n\\n\")"
   ]
  },
  {
   "cell_type": "code",
   "execution_count": 245,
   "metadata": {},
   "outputs": [],
   "source": [
    "df_grade = pd.read_csv(f\"{TABLES_DIR}/{table_name}\")"
   ]
  },
  {
   "cell_type": "code",
   "execution_count": 246,
   "metadata": {},
   "outputs": [
    {
     "data": {
      "text/plain": [
       "Index(['Unnamed: 0', 'Expert Reviewer', 'Peer Reviewers',\n",
       "       'Experience_Peer_Avg', 'Experience_Expert_Avg', 'Experience_Difference',\n",
       "       'Experience_Rodrigo', 'Experience_Shang', 'Experience_Jen',\n",
       "       'Referencing_Peer_Avg', 'Referencing_Expert_Avg',\n",
       "       'Referencing_Difference', 'Referencing_Rodrigo', 'Referencing_Shang',\n",
       "       'Referencing_Jen', 'Work URL'],\n",
       "      dtype='object')"
      ]
     },
     "execution_count": 246,
     "metadata": {},
     "output_type": "execute_result"
    }
   ],
   "source": [
    "df_grade.columns"
   ]
  },
  {
   "cell_type": "code",
   "execution_count": 255,
   "metadata": {},
   "outputs": [],
   "source": [
    "dfExperiences = df_grade[['Unnamed: 0', 'Experience_Rodrigo', 'Experience_Shang', \n",
    "          'Experience_Jen', 'Peer Reviewers']]\n",
    "\n",
    "dfExperiences = dfExperiences.rename(columns = {'Unnamed: 0':'author'})"
   ]
  },
  {
   "cell_type": "code",
   "execution_count": 256,
   "metadata": {},
   "outputs": [],
   "source": [
    "dfExperiences[\"Experience\"]  = df_intro_texts[\"works_intro\"]"
   ]
  },
  {
   "cell_type": "code",
   "execution_count": 261,
   "metadata": {},
   "outputs": [],
   "source": [
    "df = dfExperiences.dropna()"
   ]
  },
  {
   "cell_type": "code",
   "execution_count": 270,
   "metadata": {},
   "outputs": [],
   "source": [
    "df = df[['author', \"Experience\", 'Experience_Rodrigo', 'Experience_Shang', \n",
    "          'Experience_Jen', 'Peer Reviewers']]\n",
    "\n",
    "df.to_csv(f\"{TABLES_DIR}/Works_Experience_Graded.csv\", index=False)"
   ]
  },
  {
   "cell_type": "code",
   "execution_count": null,
   "metadata": {},
   "outputs": [],
   "source": []
  }
 ],
 "metadata": {
  "kernelspec": {
   "display_name": "Python 3",
   "language": "python",
   "name": "python3"
  },
  "language_info": {
   "codemirror_mode": {
    "name": "ipython",
    "version": 3
   },
   "file_extension": ".py",
   "mimetype": "text/x-python",
   "name": "python",
   "nbconvert_exporter": "python",
   "pygments_lexer": "ipython3",
   "version": "3.8.5"
  },
  "nbTranslate": {
   "displayLangs": [
    "*"
   ],
   "hotkey": "alt-t",
   "langInMainMenu": true,
   "sourceLang": "en",
   "targetLang": "fr",
   "useGoogleTranslate": true
  },
  "varInspector": {
   "cols": {
    "lenName": 16,
    "lenType": 16,
    "lenVar": 40
   },
   "kernels_config": {
    "python": {
     "delete_cmd_postfix": "",
     "delete_cmd_prefix": "del ",
     "library": "var_list.py",
     "varRefreshCmd": "print(var_dic_list())"
    },
    "r": {
     "delete_cmd_postfix": ") ",
     "delete_cmd_prefix": "rm(",
     "library": "var_list.r",
     "varRefreshCmd": "cat(var_dic_list()) "
    }
   },
   "types_to_exclude": [
    "module",
    "function",
    "builtin_function_or_method",
    "instance",
    "_Feature"
   ],
   "window_display": false
  }
 },
 "nbformat": 4,
 "nbformat_minor": 4
}
